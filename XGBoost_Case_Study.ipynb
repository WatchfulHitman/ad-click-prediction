{
 "cells": [
  {
   "cell_type": "markdown",
   "metadata": {
    "colab_type": "text",
    "id": "VoMhBpMfI1pu"
   },
   "source": [
    "# TalkingData: Fraudulent Click Prediction\n",
    "\n",
    "\n",
    "\n",
    "\n"
   ]
  },
  {
   "cell_type": "markdown",
   "metadata": {
    "colab_type": "text",
    "id": "zM2yuTyRI-eL"
   },
   "source": [
    "## Understanding the Business Problem\n",
    "\n",
    "<a href=\"https://www.talkingdata.com/\">TalkingData</a> is a Chinese big data company, and one of their areas of expertise is mobile advertisements.\n",
    "\n",
    "In mobile advertisements, **click fraud** is a major source of losses. Click fraud is the practice of repeatedly clicking on an advertisement hosted on a website with the intention of generating revenue for the host website or draining revenue from the advertiser.\n",
    "\n",
    "In this case, TalkingData happens to be serving the advertisers (their clients). TalkingData cover a whopping **approx. 70% of the active mobile devices in China**, of which 90% are potentially fraudulent (i.e. the user is actually not going to download the app after clicking).\n",
    "\n",
    "You can imagine the amount of money they can help clients save if they are able to predict whether a given click is fraudulent (or equivalently, whether a given click will result in a download). \n",
    "\n",
    "Their current approach to solve this problem is that they've generated a blacklist of IP addresses - those IPs which produce lots of clicks, but never install any apps. Now, they want to try some advanced techniques to predict the probability of a click being genuine/fraud.\n",
    "\n",
    "In this problem, we will use the features associated with clicks, such as IP address, operating system, device type, time of click etc. to predict the probability of a click being fraud.\n",
    "\n",
    "They have released <a href=\"https://www.kaggle.com/c/talkingdata-adtracking-fraud-detection\">the problem on Kaggle here.</a>."
   ]
  },
  {
   "cell_type": "markdown",
   "metadata": {
    "colab_type": "text",
    "id": "TeTxCs0UJV5u"
   },
   "source": [
    "## Understanding and Exploring the Data\n",
    "\n",
    "The data contains observations of about 240 million clicks, and whether a given click resulted in a download or not (1/0). \n",
    "\n",
    "On Kaggle, the data is split into train.csv and train_sample.csv (100,000 observations). We'll use the smaller train_sample.csv in this notebook for speed, though while training the model for Kaggle submissions, the full training data will obviously produce better results.\n",
    "\n",
    "The detailed data dictionary is mentioned here:\n",
    "- ```ip```: ip address of click.\n",
    "- ```app```: app id for marketing.\n",
    "- ```device```: device type id of user mobile phone (e.g., iphone 6 plus, iphone 7, huawei mate 7, etc.)\n",
    "- ```os```: os version id of user mobile phone\n",
    "- ```channel```: channel id of mobile ad publisher\n",
    "- ```click_time```: timestamp of click (UTC)\n",
    "- ```attributed_time```: if user download the app for after clicking an ad, this is the time of the app download\n",
    "- ```is_attributed```: the target that is to be predicted, indicating the app was downloaded\n",
    "\n",
    "Let's try finding some useful trends in the data."
   ]
  },
  {
   "cell_type": "code",
   "execution_count": 0,
   "metadata": {
    "colab": {},
    "colab_type": "code",
    "id": "mTd0UvoEEdWV"
   },
   "outputs": [],
   "source": [
    "import numpy as np\n",
    "import pandas as pd\n",
    "import sklearn\n",
    "import matplotlib.pyplot as plt\n",
    "import seaborn as sns\n",
    "\n",
    "from sklearn.model_selection import train_test_split\n",
    "from sklearn.model_selection import KFold\n",
    "from sklearn.model_selection import GridSearchCV\n",
    "from sklearn.model_selection import cross_val_score\n",
    "from sklearn.preprocessing import LabelEncoder\n",
    "from sklearn.tree import DecisionTreeClassifier\n",
    "from sklearn.ensemble import AdaBoostClassifier\n",
    "from sklearn.ensemble import GradientBoostingClassifier\n",
    "from sklearn import metrics\n",
    "\n",
    "import xgboost as xgb\n",
    "from xgboost import XGBClassifier\n",
    "from xgboost import plot_importance\n",
    "import gc # for deleting unused variables\n",
    "%matplotlib inline\n",
    "\n",
    "import os\n",
    "import warnings\n",
    "warnings.filterwarnings('ignore')"
   ]
  },
  {
   "cell_type": "code",
   "execution_count": 0,
   "metadata": {
    "colab": {},
    "colab_type": "code",
    "id": "w-L7Cj33ONuW"
   },
   "outputs": [],
   "source": [
    "# reading training data\n",
    "\n",
    "# specify column dtypes to save memory (by default pandas reads some columns as floats)\n",
    "dtypes = {\n",
    "        'ip'            : 'uint16',\n",
    "        'app'           : 'uint16',\n",
    "        'device'        : 'uint16',\n",
    "        'os'            : 'uint16',\n",
    "        'channel'       : 'uint16',\n",
    "        'is_attributed' : 'uint8',\n",
    "        'click_id'      : 'uint32' # note that click_id is only in test data, not training data\n",
    "        }\n",
    "\n",
    "# read training_sample.csv for quick testing/debug, else read the full train.csv\n",
    "testing = True\n",
    "if testing:\n",
    "    train_path = \"train_sample.csv\"\n",
    "    skiprows = None\n",
    "    nrows = None\n",
    "    colnames=['ip','app','device','os', 'channel', 'click_time', 'is_attributed']\n",
    "else:\n",
    "    train_path = \"train.csv\"\n",
    "    skiprows = range(1, 144903891)\n",
    "    nrows = 10000000\n",
    "    colnames=['ip','app','device','os', 'channel', 'click_time', 'is_attributed']\n",
    "\n",
    "# read training data\n",
    "train_sample = pd.read_csv(train_path, skiprows=skiprows, nrows=nrows, dtype=dtypes, usecols=colnames)\n"
   ]
  },
  {
   "cell_type": "code",
   "execution_count": 3,
   "metadata": {
    "colab": {
     "base_uri": "https://localhost:8080/",
     "height": 34
    },
    "colab_type": "code",
    "id": "0vkjI8bGOaM8",
    "outputId": "7d11b921-e41a-4dc0-efa0-26c9dfafc53f"
   },
   "outputs": [
    {
     "data": {
      "text/plain": [
       "100000"
      ]
     },
     "execution_count": 3,
     "metadata": {
      "tags": []
     },
     "output_type": "execute_result"
    }
   ],
   "source": [
    "len(train_sample.index)"
   ]
  },
  {
   "cell_type": "code",
   "execution_count": 4,
   "metadata": {
    "colab": {
     "base_uri": "https://localhost:8080/",
     "height": 168
    },
    "colab_type": "code",
    "id": "ALoPAdCiPUrU",
    "outputId": "a455b228-cbad-4070-a588-ba0733c007cc"
   },
   "outputs": [
    {
     "name": "stdout",
     "output_type": "stream",
     "text": [
      "Index               128\n",
      "ip               200000\n",
      "app              200000\n",
      "device           200000\n",
      "os               200000\n",
      "channel          200000\n",
      "click_time       800000\n",
      "is_attributed    100000\n",
      "dtype: int64\n"
     ]
    }
   ],
   "source": [
    "print(train_sample.memory_usage())"
   ]
  },
  {
   "cell_type": "code",
   "execution_count": 5,
   "metadata": {
    "colab": {
     "base_uri": "https://localhost:8080/",
     "height": 195
    },
    "colab_type": "code",
    "id": "23E2ZwfzPciC",
    "outputId": "ab2e1ce7-3f41-4165-d813-532fadde2f90"
   },
   "outputs": [
    {
     "data": {
      "text/html": [
       "<div>\n",
       "<style scoped>\n",
       "    .dataframe tbody tr th:only-of-type {\n",
       "        vertical-align: middle;\n",
       "    }\n",
       "\n",
       "    .dataframe tbody tr th {\n",
       "        vertical-align: top;\n",
       "    }\n",
       "\n",
       "    .dataframe thead th {\n",
       "        text-align: right;\n",
       "    }\n",
       "</style>\n",
       "<table border=\"1\" class=\"dataframe\">\n",
       "  <thead>\n",
       "    <tr style=\"text-align: right;\">\n",
       "      <th></th>\n",
       "      <th>ip</th>\n",
       "      <th>app</th>\n",
       "      <th>device</th>\n",
       "      <th>os</th>\n",
       "      <th>channel</th>\n",
       "      <th>click_time</th>\n",
       "      <th>is_attributed</th>\n",
       "    </tr>\n",
       "  </thead>\n",
       "  <tbody>\n",
       "    <tr>\n",
       "      <th>0</th>\n",
       "      <td>22004</td>\n",
       "      <td>12</td>\n",
       "      <td>1</td>\n",
       "      <td>13</td>\n",
       "      <td>497</td>\n",
       "      <td>2017-11-07 09:30:38</td>\n",
       "      <td>0</td>\n",
       "    </tr>\n",
       "    <tr>\n",
       "      <th>1</th>\n",
       "      <td>40024</td>\n",
       "      <td>25</td>\n",
       "      <td>1</td>\n",
       "      <td>17</td>\n",
       "      <td>259</td>\n",
       "      <td>2017-11-07 13:40:27</td>\n",
       "      <td>0</td>\n",
       "    </tr>\n",
       "    <tr>\n",
       "      <th>2</th>\n",
       "      <td>35888</td>\n",
       "      <td>12</td>\n",
       "      <td>1</td>\n",
       "      <td>19</td>\n",
       "      <td>212</td>\n",
       "      <td>2017-11-07 18:05:24</td>\n",
       "      <td>0</td>\n",
       "    </tr>\n",
       "    <tr>\n",
       "      <th>3</th>\n",
       "      <td>29048</td>\n",
       "      <td>13</td>\n",
       "      <td>1</td>\n",
       "      <td>13</td>\n",
       "      <td>477</td>\n",
       "      <td>2017-11-07 04:58:08</td>\n",
       "      <td>0</td>\n",
       "    </tr>\n",
       "    <tr>\n",
       "      <th>4</th>\n",
       "      <td>2877</td>\n",
       "      <td>12</td>\n",
       "      <td>1</td>\n",
       "      <td>1</td>\n",
       "      <td>178</td>\n",
       "      <td>2017-11-09 09:00:09</td>\n",
       "      <td>0</td>\n",
       "    </tr>\n",
       "  </tbody>\n",
       "</table>\n",
       "</div>"
      ],
      "text/plain": [
       "      ip  app  device  os  channel           click_time  is_attributed\n",
       "0  22004   12       1  13      497  2017-11-07 09:30:38              0\n",
       "1  40024   25       1  17      259  2017-11-07 13:40:27              0\n",
       "2  35888   12       1  19      212  2017-11-07 18:05:24              0\n",
       "3  29048   13       1  13      477  2017-11-07 04:58:08              0\n",
       "4   2877   12       1   1      178  2017-11-09 09:00:09              0"
      ]
     },
     "execution_count": 5,
     "metadata": {
      "tags": []
     },
     "output_type": "execute_result"
    }
   ],
   "source": [
    " train_sample.head()"
   ]
  },
  {
   "cell_type": "markdown",
   "metadata": {
    "colab_type": "text",
    "id": "4gy_-INWPoiI"
   },
   "source": [
    "### Exploring the Data - Univariate Analysis\n"
   ]
  },
  {
   "cell_type": "code",
   "execution_count": 6,
   "metadata": {
    "colab": {
     "base_uri": "https://localhost:8080/",
     "height": 218
    },
    "colab_type": "code",
    "id": "U6fNPELLPmkq",
    "outputId": "71195318-ce44-4039-baf6-962ad6b455a8"
   },
   "outputs": [
    {
     "name": "stdout",
     "output_type": "stream",
     "text": [
      "<class 'pandas.core.frame.DataFrame'>\n",
      "RangeIndex: 100000 entries, 0 to 99999\n",
      "Data columns (total 7 columns):\n",
      "ip               100000 non-null uint16\n",
      "app              100000 non-null uint16\n",
      "device           100000 non-null uint16\n",
      "os               100000 non-null uint16\n",
      "channel          100000 non-null uint16\n",
      "click_time       100000 non-null object\n",
      "is_attributed    100000 non-null uint8\n",
      "dtypes: object(1), uint16(5), uint8(1)\n",
      "memory usage: 1.8+ MB\n"
     ]
    }
   ],
   "source": [
    "train_sample.info()"
   ]
  },
  {
   "cell_type": "code",
   "execution_count": 7,
   "metadata": {
    "colab": {
     "base_uri": "https://localhost:8080/",
     "height": 134
    },
    "colab_type": "code",
    "id": "UxoKKDEWPw2n",
    "outputId": "fa20b79e-7716-4f12-877f-dba80b201f76"
   },
   "outputs": [
    {
     "data": {
      "text/plain": [
       "{'app': 161,\n",
       " 'channel': 161,\n",
       " 'click_time': 80350,\n",
       " 'device': 100,\n",
       " 'ip': 28470,\n",
       " 'is_attributed': 2,\n",
       " 'os': 130}"
      ]
     },
     "execution_count": 7,
     "metadata": {
      "tags": []
     },
     "output_type": "execute_result"
    }
   ],
   "source": [
    "# Basic exploratory analysis\n",
    "\n",
    "#number of unique values in each column\n",
    "def fraction_unique(X):\n",
    "  return  len(train_sample[X].unique())\n",
    "\n",
    "num_unique_vals={x: fraction_unique(x) for x in train_sample.columns}\n",
    "num_unique_vals"
   ]
  },
  {
   "cell_type": "code",
   "execution_count": 8,
   "metadata": {
    "colab": {
     "base_uri": "https://localhost:8080/",
     "height": 151
    },
    "colab_type": "code",
    "id": "LN8all77QNR2",
    "outputId": "c660c120-bb7b-450e-c803-f1eea2e5611f"
   },
   "outputs": [
    {
     "data": {
      "text/plain": [
       "ip               uint16\n",
       "app              uint16\n",
       "device           uint16\n",
       "os               uint16\n",
       "channel          uint16\n",
       "click_time       object\n",
       "is_attributed     uint8\n",
       "dtype: object"
      ]
     },
     "execution_count": 8,
     "metadata": {
      "tags": []
     },
     "output_type": "execute_result"
    }
   ],
   "source": [
    "train_sample.dtypes"
   ]
  },
  {
   "cell_type": "code",
   "execution_count": 9,
   "metadata": {
    "colab": {
     "base_uri": "https://localhost:8080/",
     "height": 534
    },
    "colab_type": "code",
    "id": "U6VHxzfaQUdZ",
    "outputId": "0db56db1-7917-4278-fc20-23f92c9ff91b"
   },
   "outputs": [
    {
     "data": {
      "text/plain": [
       "<matplotlib.axes._subplots.AxesSubplot at 0x7fc960984358>"
      ]
     },
     "execution_count": 9,
     "metadata": {
      "tags": []
     },
     "output_type": "execute_result"
    },
    {
     "data": {
      "image/png": "[encoded data removed]",
      "text/plain": [
       "<Figure size 1008x576 with 1 Axes>"
      ]
     },
     "metadata": {
      "tags": []
     },
     "output_type": "display_data"
    }
   ],
   "source": [
    "# distribution of app\n",
    "# some 'apps' have a disproportionate high number of clicks(>15K)\n",
    "plt.figure(figsize=(14,8))\n",
    "sns.countplot(x='app',data=train_sample)"
   ]
  },
  {
   "cell_type": "code",
   "execution_count": 10,
   "metadata": {
    "colab": {
     "base_uri": "https://localhost:8080/",
     "height": 534
    },
    "colab_type": "code",
    "id": "Lw4HWwKLQu-e",
    "outputId": "2cc9c2b8-511b-4027-9a4d-e52b8a2f81b4"
   },
   "outputs": [
    {
     "data": {
      "text/plain": [
       "<matplotlib.axes._subplots.AxesSubplot at 0x7fc92675a7f0>"
      ]
     },
     "execution_count": 10,
     "metadata": {
      "tags": []
     },
     "output_type": "execute_result"
    },
    {
     "data": {
      "image/png": "[encoded data removed]",
      "text/plain": [
       "<Figure size 1008x576 with 1 Axes>"
      ]
     },
     "metadata": {
      "tags": []
     },
     "output_type": "display_data"
    }
   ],
   "source": [
    "# distribution of device\n",
    "# this is expected because a few popular devices are used heavily\n",
    "plt.figure(figsize=(14,8))\n",
    "sns.countplot(x='device',data=train_sample)"
   ]
  },
  {
   "cell_type": "code",
   "execution_count": 11,
   "metadata": {
    "colab": {
     "base_uri": "https://localhost:8080/",
     "height": 534
    },
    "colab_type": "code",
    "id": "Z5aozq0TRTIK",
    "outputId": "2e37cbc5-00ef-4483-e2c2-c39d3a0fc2ea"
   },
   "outputs": [
    {
     "data": {
      "text/plain": [
       "<matplotlib.axes._subplots.AxesSubplot at 0x7fc926886f60>"
      ]
     },
     "execution_count": 11,
     "metadata": {
      "tags": []
     },
     "output_type": "execute_result"
    },
    {
     "data": {
      "image/png": "[encoded data removed]",
      "text/plain": [
       "<Figure size 1008x576 with 1 Axes>"
      ]
     },
     "metadata": {
      "tags": []
     },
     "output_type": "display_data"
    }
   ],
   "source": [
    "# channels: various channels gets clicks in comparable quantities\n",
    "plt.figure(figsize=(14,8))\n",
    "sns.countplot(x=\"channel\",data=train_sample)"
   ]
  },
  {
   "cell_type": "code",
   "execution_count": 12,
   "metadata": {
    "colab": {
     "base_uri": "https://localhost:8080/",
     "height": 537
    },
    "colab_type": "code",
    "id": "nCTfNDdpRrGi",
    "outputId": "6ebf97d5-0715-4fc8-fecf-ee05aaa4ebf2"
   },
   "outputs": [
    {
     "data": {
      "text/plain": [
       "<matplotlib.axes._subplots.AxesSubplot at 0x7fc925a1ee48>"
      ]
     },
     "execution_count": 12,
     "metadata": {
      "tags": []
     },
     "output_type": "execute_result"
    },
    {
     "data": {
      "image/png": "[encoded data removed]",
      "text/plain": [
       "<Figure size 1008x576 with 1 Axes>"
      ]
     },
     "metadata": {
      "tags": []
     },
     "output_type": "display_data"
    }
   ],
   "source": [
    "# os : few os are used too much\n",
    "plt.figure(figsize=(14,8))\n",
    "sns.countplot(x=\"os\",data=train_sample)"
   ]
  },
  {
   "cell_type": "code",
   "execution_count": 13,
   "metadata": {
    "colab": {
     "base_uri": "https://localhost:8080/",
     "height": 67
    },
    "colab_type": "code",
    "id": "2hH-N3_QR9Kp",
    "outputId": "39284829-51f2-4ea0-afcf-0f2effa12725"
   },
   "outputs": [
    {
     "data": {
      "text/plain": [
       "0    99.773\n",
       "1     0.227\n",
       "Name: is_attributed, dtype: float64"
      ]
     },
     "execution_count": 13,
     "metadata": {
      "tags": []
     },
     "output_type": "execute_result"
    }
   ],
   "source": [
    "# target variable distribution\n",
    "100*(train_sample['is_attributed'].astype('object').value_counts()/len(train_sample.index))"
   ]
  },
  {
   "cell_type": "markdown",
   "metadata": {
    "colab_type": "text",
    "id": "rFfQIf_qScJp"
   },
   "source": [
    "Only **about 0.2% of the clicks are fraudulen**."
   ]
  },
  {
   "cell_type": "markdown",
   "metadata": {
    "colab_type": "text",
    "id": "ApBjTINFSpJJ"
   },
   "source": [
    "#### Exploring the Data- Segmented Univariate Analysis"
   ]
  },
  {
   "cell_type": "code",
   "execution_count": 14,
   "metadata": {
    "colab": {
     "base_uri": "https://localhost:8080/",
     "height": 431
    },
    "colab_type": "code",
    "id": "KH19rdEtSW4G",
    "outputId": "1f5adfd7-49d2-4074-fb38-1c0c7b1d9951"
   },
   "outputs": [
    {
     "data": {
      "text/html": [
       "<div>\n",
       "<style scoped>\n",
       "    .dataframe tbody tr th:only-of-type {\n",
       "        vertical-align: middle;\n",
       "    }\n",
       "\n",
       "    .dataframe tbody tr th {\n",
       "        vertical-align: top;\n",
       "    }\n",
       "\n",
       "    .dataframe thead th {\n",
       "        text-align: right;\n",
       "    }\n",
       "</style>\n",
       "<table border=\"1\" class=\"dataframe\">\n",
       "  <thead>\n",
       "    <tr style=\"text-align: right;\">\n",
       "      <th></th>\n",
       "      <th>mean</th>\n",
       "      <th>count</th>\n",
       "    </tr>\n",
       "    <tr>\n",
       "      <th>app</th>\n",
       "      <th></th>\n",
       "      <th></th>\n",
       "    </tr>\n",
       "  </thead>\n",
       "  <tbody>\n",
       "    <tr>\n",
       "      <th>1</th>\n",
       "      <td>0.000000</td>\n",
       "      <td>3135</td>\n",
       "    </tr>\n",
       "    <tr>\n",
       "      <th>2</th>\n",
       "      <td>0.000000</td>\n",
       "      <td>11737</td>\n",
       "    </tr>\n",
       "    <tr>\n",
       "      <th>3</th>\n",
       "      <td>0.000219</td>\n",
       "      <td>18279</td>\n",
       "    </tr>\n",
       "    <tr>\n",
       "      <th>4</th>\n",
       "      <td>0.000000</td>\n",
       "      <td>58</td>\n",
       "    </tr>\n",
       "    <tr>\n",
       "      <th>5</th>\n",
       "      <td>0.074468</td>\n",
       "      <td>188</td>\n",
       "    </tr>\n",
       "    <tr>\n",
       "      <th>...</th>\n",
       "      <td>...</td>\n",
       "      <td>...</td>\n",
       "    </tr>\n",
       "    <tr>\n",
       "      <th>486</th>\n",
       "      <td>0.000000</td>\n",
       "      <td>1</td>\n",
       "    </tr>\n",
       "    <tr>\n",
       "      <th>536</th>\n",
       "      <td>0.000000</td>\n",
       "      <td>1</td>\n",
       "    </tr>\n",
       "    <tr>\n",
       "      <th>538</th>\n",
       "      <td>0.000000</td>\n",
       "      <td>1</td>\n",
       "    </tr>\n",
       "    <tr>\n",
       "      <th>548</th>\n",
       "      <td>0.000000</td>\n",
       "      <td>1</td>\n",
       "    </tr>\n",
       "    <tr>\n",
       "      <th>551</th>\n",
       "      <td>0.000000</td>\n",
       "      <td>1</td>\n",
       "    </tr>\n",
       "  </tbody>\n",
       "</table>\n",
       "<p>161 rows × 2 columns</p>\n",
       "</div>"
      ],
      "text/plain": [
       "         mean  count\n",
       "app                 \n",
       "1    0.000000   3135\n",
       "2    0.000000  11737\n",
       "3    0.000219  18279\n",
       "4    0.000000     58\n",
       "5    0.074468    188\n",
       "..        ...    ...\n",
       "486  0.000000      1\n",
       "536  0.000000      1\n",
       "538  0.000000      1\n",
       "548  0.000000      1\n",
       "551  0.000000      1\n",
       "\n",
       "[161 rows x 2 columns]"
      ]
     },
     "execution_count": 14,
     "metadata": {
      "tags": []
     },
     "output_type": "execute_result"
    }
   ],
   "source": [
    "# plot the average of 'is_attributed', or 'download rate'\n",
    "# with app (clearly this is non-readable)\n",
    "app_target = train_sample.groupby('app').is_attributed.agg(['mean', 'count'])\n",
    "app_target"
   ]
  },
  {
   "cell_type": "code",
   "execution_count": 15,
   "metadata": {
    "colab": {
     "base_uri": "https://localhost:8080/",
     "height": 195
    },
    "colab_type": "code",
    "id": "NRQoBIJmTAPl",
    "outputId": "3c35fbd8-dcaa-4079-e05e-975ccf7baca5"
   },
   "outputs": [
    {
     "data": {
      "text/html": [
       "<div>\n",
       "<style scoped>\n",
       "    .dataframe tbody tr th:only-of-type {\n",
       "        vertical-align: middle;\n",
       "    }\n",
       "\n",
       "    .dataframe tbody tr th {\n",
       "        vertical-align: top;\n",
       "    }\n",
       "\n",
       "    .dataframe thead th {\n",
       "        text-align: right;\n",
       "    }\n",
       "</style>\n",
       "<table border=\"1\" class=\"dataframe\">\n",
       "  <thead>\n",
       "    <tr style=\"text-align: right;\">\n",
       "      <th></th>\n",
       "      <th>app</th>\n",
       "      <th>count</th>\n",
       "      <th>ip</th>\n",
       "      <th>device</th>\n",
       "      <th>os</th>\n",
       "      <th>channel</th>\n",
       "      <th>click_time</th>\n",
       "      <th>is_attributed</th>\n",
       "    </tr>\n",
       "  </thead>\n",
       "  <tbody>\n",
       "    <tr>\n",
       "      <th>0</th>\n",
       "      <td>1</td>\n",
       "      <td>3135</td>\n",
       "      <td>17059</td>\n",
       "      <td>1</td>\n",
       "      <td>17</td>\n",
       "      <td>135</td>\n",
       "      <td>2017-11-09 01:17:58</td>\n",
       "      <td>0</td>\n",
       "    </tr>\n",
       "    <tr>\n",
       "      <th>1</th>\n",
       "      <td>1</td>\n",
       "      <td>3135</td>\n",
       "      <td>52432</td>\n",
       "      <td>1</td>\n",
       "      <td>13</td>\n",
       "      <td>115</td>\n",
       "      <td>2017-11-07 17:22:52</td>\n",
       "      <td>0</td>\n",
       "    </tr>\n",
       "    <tr>\n",
       "      <th>2</th>\n",
       "      <td>1</td>\n",
       "      <td>3135</td>\n",
       "      <td>23706</td>\n",
       "      <td>1</td>\n",
       "      <td>27</td>\n",
       "      <td>124</td>\n",
       "      <td>2017-11-07 09:37:21</td>\n",
       "      <td>0</td>\n",
       "    </tr>\n",
       "    <tr>\n",
       "      <th>3</th>\n",
       "      <td>1</td>\n",
       "      <td>3135</td>\n",
       "      <td>58458</td>\n",
       "      <td>1</td>\n",
       "      <td>19</td>\n",
       "      <td>101</td>\n",
       "      <td>2017-11-09 14:27:57</td>\n",
       "      <td>0</td>\n",
       "    </tr>\n",
       "    <tr>\n",
       "      <th>4</th>\n",
       "      <td>1</td>\n",
       "      <td>3135</td>\n",
       "      <td>34067</td>\n",
       "      <td>1</td>\n",
       "      <td>15</td>\n",
       "      <td>134</td>\n",
       "      <td>2017-11-07 15:06:06</td>\n",
       "      <td>0</td>\n",
       "    </tr>\n",
       "  </tbody>\n",
       "</table>\n",
       "</div>"
      ],
      "text/plain": [
       "   app  count     ip  device  os  channel           click_time  is_attributed\n",
       "0    1   3135  17059       1  17      135  2017-11-09 01:17:58              0\n",
       "1    1   3135  52432       1  13      115  2017-11-07 17:22:52              0\n",
       "2    1   3135  23706       1  27      124  2017-11-07 09:37:21              0\n",
       "3    1   3135  58458       1  19      101  2017-11-09 14:27:57              0\n",
       "4    1   3135  34067       1  15      134  2017-11-07 15:06:06              0"
      ]
     },
     "execution_count": 15,
     "metadata": {
      "tags": []
     },
     "output_type": "execute_result"
    }
   ],
   "source": [
    "frequent_apps=train_sample.groupby('app').size().reset_index(name='count')\n",
    "frequent_apps=frequent_apps[frequent_apps['count']>frequent_apps['count'].quantile(0.80)]\n",
    "frequent_apps=frequent_apps.merge(train_sample,on='app',how='inner')\n",
    "frequent_apps.head()"
   ]
  },
  {
   "cell_type": "code",
   "execution_count": 16,
   "metadata": {
    "colab": {
     "base_uri": "https://localhost:8080/",
     "height": 623
    },
    "colab_type": "code",
    "id": "ntsMSyWEYZOv",
    "outputId": "ca7c5402-d773-48c2-cd70-551f78a1c7d9"
   },
   "outputs": [
    {
     "data": {
      "text/plain": [
       "<matplotlib.axes._subplots.AxesSubplot at 0x7fc925652f60>"
      ]
     },
     "execution_count": 16,
     "metadata": {
      "tags": []
     },
     "output_type": "execute_result"
    },
    {
     "data": {
      "image/png": "[encoded data removed]",
      "text/plain": [
       "<Figure size 720x720 with 1 Axes>"
      ]
     },
     "metadata": {
      "tags": []
     },
     "output_type": "display_data"
    }
   ],
   "source": [
    "plt.figure(figsize=(10,10))\n",
    "sns.countplot(y='app',hue=\"is_attributed\",data=frequent_apps)"
   ]
  },
  {
   "cell_type": "markdown",
   "metadata": {
    "colab_type": "text",
    "id": "2xwcVHm1Zi4r"
   },
   "source": [
    "## Feature Engineering"
   ]
  },
  {
   "cell_type": "markdown",
   "metadata": {
    "colab_type": "text",
    "id": "ws_jef-LZsAn"
   },
   "source": [
    "Let's now derive some new features from the existing ones. There are a number of features one can extract from ```click_time``` itself, and by grouping combinations of IP with other features."
   ]
  },
  {
   "cell_type": "markdown",
   "metadata": {
    "colab_type": "text",
    "id": "8q70QitXZuDI"
   },
   "source": [
    "#### Datetime Based Features"
   ]
  },
  {
   "cell_type": "code",
   "execution_count": 0,
   "metadata": {
    "colab": {},
    "colab_type": "code",
    "id": "XsJulEg-ZDRo"
   },
   "outputs": [],
   "source": [
    "# Creating datetime variables\n",
    "# takes in a df, adds date/time based columns to it, and returns the modified df\n",
    "def timeFeatures(df):\n",
    "    # Derive new features using the click_time column\n",
    "    df['datetime'] = pd.to_datetime(df['click_time'])\n",
    "    df['day_of_week'] = df['datetime'].dt.dayofweek\n",
    "    df[\"day_of_year\"] = df[\"datetime\"].dt.dayofyear\n",
    "    df[\"month\"] = df[\"datetime\"].dt.month\n",
    "    df[\"hour\"] = df[\"datetime\"].dt.hour\n",
    "    return df"
   ]
  },
  {
   "cell_type": "code",
   "execution_count": 18,
   "metadata": {
    "colab": {
     "base_uri": "https://localhost:8080/",
     "height": 215
    },
    "colab_type": "code",
    "id": "Fuj_1_cmZznz",
    "outputId": "95fdecf9-dd15-47a9-cbe7-e0141b00ec31"
   },
   "outputs": [
    {
     "data": {
      "text/html": [
       "<div>\n",
       "<style scoped>\n",
       "    .dataframe tbody tr th:only-of-type {\n",
       "        vertical-align: middle;\n",
       "    }\n",
       "\n",
       "    .dataframe tbody tr th {\n",
       "        vertical-align: top;\n",
       "    }\n",
       "\n",
       "    .dataframe thead th {\n",
       "        text-align: right;\n",
       "    }\n",
       "</style>\n",
       "<table border=\"1\" class=\"dataframe\">\n",
       "  <thead>\n",
       "    <tr style=\"text-align: right;\">\n",
       "      <th></th>\n",
       "      <th>ip</th>\n",
       "      <th>app</th>\n",
       "      <th>device</th>\n",
       "      <th>os</th>\n",
       "      <th>channel</th>\n",
       "      <th>is_attributed</th>\n",
       "      <th>day_of_week</th>\n",
       "      <th>day_of_year</th>\n",
       "      <th>month</th>\n",
       "      <th>hour</th>\n",
       "    </tr>\n",
       "  </thead>\n",
       "  <tbody>\n",
       "    <tr>\n",
       "      <th>0</th>\n",
       "      <td>22004</td>\n",
       "      <td>12</td>\n",
       "      <td>1</td>\n",
       "      <td>13</td>\n",
       "      <td>497</td>\n",
       "      <td>0</td>\n",
       "      <td>1</td>\n",
       "      <td>311</td>\n",
       "      <td>11</td>\n",
       "      <td>9</td>\n",
       "    </tr>\n",
       "    <tr>\n",
       "      <th>1</th>\n",
       "      <td>40024</td>\n",
       "      <td>25</td>\n",
       "      <td>1</td>\n",
       "      <td>17</td>\n",
       "      <td>259</td>\n",
       "      <td>0</td>\n",
       "      <td>1</td>\n",
       "      <td>311</td>\n",
       "      <td>11</td>\n",
       "      <td>13</td>\n",
       "    </tr>\n",
       "    <tr>\n",
       "      <th>2</th>\n",
       "      <td>35888</td>\n",
       "      <td>12</td>\n",
       "      <td>1</td>\n",
       "      <td>19</td>\n",
       "      <td>212</td>\n",
       "      <td>0</td>\n",
       "      <td>1</td>\n",
       "      <td>311</td>\n",
       "      <td>11</td>\n",
       "      <td>18</td>\n",
       "    </tr>\n",
       "    <tr>\n",
       "      <th>3</th>\n",
       "      <td>29048</td>\n",
       "      <td>13</td>\n",
       "      <td>1</td>\n",
       "      <td>13</td>\n",
       "      <td>477</td>\n",
       "      <td>0</td>\n",
       "      <td>1</td>\n",
       "      <td>311</td>\n",
       "      <td>11</td>\n",
       "      <td>4</td>\n",
       "    </tr>\n",
       "    <tr>\n",
       "      <th>4</th>\n",
       "      <td>2877</td>\n",
       "      <td>12</td>\n",
       "      <td>1</td>\n",
       "      <td>1</td>\n",
       "      <td>178</td>\n",
       "      <td>0</td>\n",
       "      <td>3</td>\n",
       "      <td>313</td>\n",
       "      <td>11</td>\n",
       "      <td>9</td>\n",
       "    </tr>\n",
       "  </tbody>\n",
       "</table>\n",
       "</div>"
      ],
      "text/plain": [
       "      ip  app  device  os  ...  day_of_week  day_of_year  month  hour\n",
       "0  22004   12       1  13  ...            1          311     11     9\n",
       "1  40024   25       1  17  ...            1          311     11    13\n",
       "2  35888   12       1  19  ...            1          311     11    18\n",
       "3  29048   13       1  13  ...            1          311     11     4\n",
       "4   2877   12       1   1  ...            3          313     11     9\n",
       "\n",
       "[5 rows x 10 columns]"
      ]
     },
     "execution_count": 18,
     "metadata": {
      "tags": []
     },
     "output_type": "execute_result"
    }
   ],
   "source": [
    "# creating new datetime variables and dropping the old ones\n",
    "train_sample = timeFeatures(train_sample)\n",
    "train_sample.drop(['click_time', 'datetime'], axis=1, inplace=True)\n",
    "train_sample.head()"
   ]
  },
  {
   "cell_type": "code",
   "execution_count": 19,
   "metadata": {
    "colab": {
     "base_uri": "https://localhost:8080/",
     "height": 269
    },
    "colab_type": "code",
    "id": "ejHbfvoSZ1_7",
    "outputId": "d310a01d-c88a-41cd-8215-bc26ca1adf3c"
   },
   "outputs": [
    {
     "name": "stdout",
     "output_type": "stream",
     "text": [
      "<class 'pandas.core.frame.DataFrame'>\n",
      "RangeIndex: 100000 entries, 0 to 99999\n",
      "Data columns (total 10 columns):\n",
      "ip               100000 non-null uint16\n",
      "app              100000 non-null uint16\n",
      "device           100000 non-null uint16\n",
      "os               100000 non-null uint16\n",
      "channel          100000 non-null uint16\n",
      "is_attributed    100000 non-null uint8\n",
      "day_of_week      100000 non-null int64\n",
      "day_of_year      100000 non-null int64\n",
      "month            100000 non-null int64\n",
      "hour             100000 non-null int64\n",
      "dtypes: int64(4), uint16(5), uint8(1)\n",
      "memory usage: 4.1 MB\n"
     ]
    }
   ],
   "source": [
    "train_sample.info()"
   ]
  },
  {
   "cell_type": "code",
   "execution_count": 0,
   "metadata": {
    "colab": {},
    "colab_type": "code",
    "id": "e9VsO8iJaaU8"
   },
   "outputs": [],
   "source": [
    "int_vars=['app','device','os', 'channel', 'day_of_week','day_of_year', 'month', 'hour']\n",
    "train_sample[int_vars] = train_sample[int_vars].astype('uint16')"
   ]
  },
  {
   "cell_type": "code",
   "execution_count": 21,
   "metadata": {
    "colab": {
     "base_uri": "https://localhost:8080/",
     "height": 202
    },
    "colab_type": "code",
    "id": "nXIoKdtAan-G",
    "outputId": "542084a4-ef2b-4154-c6b5-ce97537ef9e3"
   },
   "outputs": [
    {
     "data": {
      "text/plain": [
       "ip               uint16\n",
       "app              uint16\n",
       "device           uint16\n",
       "os               uint16\n",
       "channel          uint16\n",
       "is_attributed     uint8\n",
       "day_of_week      uint16\n",
       "day_of_year      uint16\n",
       "month            uint16\n",
       "hour             uint16\n",
       "dtype: object"
      ]
     },
     "execution_count": 21,
     "metadata": {
      "tags": []
     },
     "output_type": "execute_result"
    }
   ],
   "source": [
    "train_sample.dtypes"
   ]
  },
  {
   "cell_type": "markdown",
   "metadata": {
    "colab_type": "text",
    "id": "6RuZa6bLa5jb"
   },
   "source": [
    "#### IP Grouping Based features\n",
    "\n",
    "Let's now create some important features by grouping IP addresses with features such as os, channel, hour, day etc. Also, count of each IP address will also be a feature.\n",
    "\n",
    "Note that though we are deriving new features by grouping IP addresses, using IP adress itself as a features is not a good idea. This is because (in the test data) if a new IP address is seen, the model will see a new 'category' and will not be able to make predictions (IP is a categorical variable, it has just been encoded with numbers)."
   ]
  },
  {
   "cell_type": "code",
   "execution_count": 22,
   "metadata": {
    "colab": {
     "base_uri": "https://localhost:8080/",
     "height": 195
    },
    "colab_type": "code",
    "id": "1ixtfjG3auHz",
    "outputId": "7d82a5ab-c8d9-4fd8-e980-f57353e77ca4"
   },
   "outputs": [
    {
     "data": {
      "text/html": [
       "<div>\n",
       "<style scoped>\n",
       "    .dataframe tbody tr th:only-of-type {\n",
       "        vertical-align: middle;\n",
       "    }\n",
       "\n",
       "    .dataframe tbody tr th {\n",
       "        vertical-align: top;\n",
       "    }\n",
       "\n",
       "    .dataframe thead th {\n",
       "        text-align: right;\n",
       "    }\n",
       "</style>\n",
       "<table border=\"1\" class=\"dataframe\">\n",
       "  <thead>\n",
       "    <tr style=\"text-align: right;\">\n",
       "      <th></th>\n",
       "      <th>ip</th>\n",
       "      <th>ip_count</th>\n",
       "    </tr>\n",
       "  </thead>\n",
       "  <tbody>\n",
       "    <tr>\n",
       "      <th>0</th>\n",
       "      <td>8</td>\n",
       "      <td>1</td>\n",
       "    </tr>\n",
       "    <tr>\n",
       "      <th>1</th>\n",
       "      <td>9</td>\n",
       "      <td>1</td>\n",
       "    </tr>\n",
       "    <tr>\n",
       "      <th>2</th>\n",
       "      <td>10</td>\n",
       "      <td>3</td>\n",
       "    </tr>\n",
       "    <tr>\n",
       "      <th>3</th>\n",
       "      <td>14</td>\n",
       "      <td>1</td>\n",
       "    </tr>\n",
       "    <tr>\n",
       "      <th>4</th>\n",
       "      <td>16</td>\n",
       "      <td>6</td>\n",
       "    </tr>\n",
       "  </tbody>\n",
       "</table>\n",
       "</div>"
      ],
      "text/plain": [
       "   ip  ip_count\n",
       "0   8         1\n",
       "1   9         1\n",
       "2  10         3\n",
       "3  14         1\n",
       "4  16         6"
      ]
     },
     "execution_count": 22,
     "metadata": {
      "tags": []
     },
     "output_type": "execute_result"
    }
   ],
   "source": [
    "# number of clicks by count of IP address\n",
    "# note that we are explicitly asking pandas to re-encode the aggregated features \n",
    "# as 'int16' to save memory\n",
    "ip_count = train_sample.groupby('ip').size().reset_index(name='ip_count').astype('int16')\n",
    "ip_count.head()"
   ]
  },
  {
   "cell_type": "code",
   "execution_count": 0,
   "metadata": {
    "colab": {},
    "colab_type": "code",
    "id": "ndGYkIRNbUdT"
   },
   "outputs": [],
   "source": [
    "# creates groupings of IP addresses with other features and appends the new features to the df\n",
    "def grouped_features(df):\n",
    "    # ip_count\n",
    "    ip_count = df.groupby('ip').size().reset_index(name='ip_count').astype('uint16')\n",
    "    ip_day_hour = df.groupby(['ip', 'day_of_week', 'hour']).size().reset_index(name='ip_day_hour').astype('uint16')\n",
    "    ip_hour_channel = df[['ip', 'hour', 'channel']].groupby(['ip', 'hour', 'channel']).size().reset_index(name='ip_hour_channel').astype('uint16')\n",
    "    ip_hour_os = df.groupby(['ip', 'hour', 'os']).channel.count().reset_index(name='ip_hour_os').astype('uint16')\n",
    "    ip_hour_app = df.groupby(['ip', 'hour', 'app']).channel.count().reset_index(name='ip_hour_app').astype('uint16')\n",
    "    ip_hour_device = df.groupby(['ip', 'hour', 'device']).channel.count().reset_index(name='ip_hour_device').astype('uint16')\n",
    "    \n",
    "    # merge the new aggregated features with the df\n",
    "    df = pd.merge(df, ip_count, on='ip', how='left')\n",
    "    del ip_count\n",
    "    df = pd.merge(df, ip_day_hour, on=['ip', 'day_of_week', 'hour'], how='left')\n",
    "    del ip_day_hour\n",
    "    df = pd.merge(df, ip_hour_channel, on=['ip', 'hour', 'channel'], how='left')\n",
    "    del ip_hour_channel\n",
    "    df = pd.merge(df, ip_hour_os, on=['ip', 'hour', 'os'], how='left')\n",
    "    del ip_hour_os\n",
    "    df = pd.merge(df, ip_hour_app, on=['ip', 'hour', 'app'], how='left')\n",
    "    del ip_hour_app\n",
    "    df = pd.merge(df, ip_hour_device, on=['ip', 'hour', 'device'], how='left')\n",
    "    del ip_hour_device\n",
    "    \n",
    "    return df"
   ]
  },
  {
   "cell_type": "code",
   "execution_count": 0,
   "metadata": {
    "colab": {},
    "colab_type": "code",
    "id": "BpO-cmHfbdkA"
   },
   "outputs": [],
   "source": [
    "train_sample = grouped_features(train_sample)"
   ]
  },
  {
   "cell_type": "code",
   "execution_count": 25,
   "metadata": {
    "colab": {
     "base_uri": "https://localhost:8080/",
     "height": 215
    },
    "colab_type": "code",
    "id": "m0ycCRYtbiS-",
    "outputId": "f73e96a9-a2ee-4bee-98b7-6b4fe3596e6d"
   },
   "outputs": [
    {
     "data": {
      "text/html": [
       "<div>\n",
       "<style scoped>\n",
       "    .dataframe tbody tr th:only-of-type {\n",
       "        vertical-align: middle;\n",
       "    }\n",
       "\n",
       "    .dataframe tbody tr th {\n",
       "        vertical-align: top;\n",
       "    }\n",
       "\n",
       "    .dataframe thead th {\n",
       "        text-align: right;\n",
       "    }\n",
       "</style>\n",
       "<table border=\"1\" class=\"dataframe\">\n",
       "  <thead>\n",
       "    <tr style=\"text-align: right;\">\n",
       "      <th></th>\n",
       "      <th>ip</th>\n",
       "      <th>app</th>\n",
       "      <th>device</th>\n",
       "      <th>os</th>\n",
       "      <th>channel</th>\n",
       "      <th>is_attributed</th>\n",
       "      <th>day_of_week</th>\n",
       "      <th>day_of_year</th>\n",
       "      <th>month</th>\n",
       "      <th>hour</th>\n",
       "      <th>ip_count</th>\n",
       "      <th>ip_day_hour</th>\n",
       "      <th>ip_hour_channel</th>\n",
       "      <th>ip_hour_os</th>\n",
       "      <th>ip_hour_app</th>\n",
       "      <th>ip_hour_device</th>\n",
       "    </tr>\n",
       "  </thead>\n",
       "  <tbody>\n",
       "    <tr>\n",
       "      <th>0</th>\n",
       "      <td>22004</td>\n",
       "      <td>12</td>\n",
       "      <td>1</td>\n",
       "      <td>13</td>\n",
       "      <td>497</td>\n",
       "      <td>0</td>\n",
       "      <td>1</td>\n",
       "      <td>311</td>\n",
       "      <td>11</td>\n",
       "      <td>9</td>\n",
       "      <td>8</td>\n",
       "      <td>1</td>\n",
       "      <td>1</td>\n",
       "      <td>1</td>\n",
       "      <td>1</td>\n",
       "      <td>1</td>\n",
       "    </tr>\n",
       "    <tr>\n",
       "      <th>1</th>\n",
       "      <td>40024</td>\n",
       "      <td>25</td>\n",
       "      <td>1</td>\n",
       "      <td>17</td>\n",
       "      <td>259</td>\n",
       "      <td>0</td>\n",
       "      <td>1</td>\n",
       "      <td>311</td>\n",
       "      <td>11</td>\n",
       "      <td>13</td>\n",
       "      <td>149</td>\n",
       "      <td>4</td>\n",
       "      <td>1</td>\n",
       "      <td>1</td>\n",
       "      <td>1</td>\n",
       "      <td>8</td>\n",
       "    </tr>\n",
       "    <tr>\n",
       "      <th>2</th>\n",
       "      <td>35888</td>\n",
       "      <td>12</td>\n",
       "      <td>1</td>\n",
       "      <td>19</td>\n",
       "      <td>212</td>\n",
       "      <td>0</td>\n",
       "      <td>1</td>\n",
       "      <td>311</td>\n",
       "      <td>11</td>\n",
       "      <td>18</td>\n",
       "      <td>2</td>\n",
       "      <td>1</td>\n",
       "      <td>1</td>\n",
       "      <td>1</td>\n",
       "      <td>1</td>\n",
       "      <td>1</td>\n",
       "    </tr>\n",
       "    <tr>\n",
       "      <th>3</th>\n",
       "      <td>29048</td>\n",
       "      <td>13</td>\n",
       "      <td>1</td>\n",
       "      <td>13</td>\n",
       "      <td>477</td>\n",
       "      <td>0</td>\n",
       "      <td>1</td>\n",
       "      <td>311</td>\n",
       "      <td>11</td>\n",
       "      <td>4</td>\n",
       "      <td>3</td>\n",
       "      <td>1</td>\n",
       "      <td>1</td>\n",
       "      <td>1</td>\n",
       "      <td>1</td>\n",
       "      <td>1</td>\n",
       "    </tr>\n",
       "    <tr>\n",
       "      <th>4</th>\n",
       "      <td>2877</td>\n",
       "      <td>12</td>\n",
       "      <td>1</td>\n",
       "      <td>1</td>\n",
       "      <td>178</td>\n",
       "      <td>0</td>\n",
       "      <td>3</td>\n",
       "      <td>313</td>\n",
       "      <td>11</td>\n",
       "      <td>9</td>\n",
       "      <td>4</td>\n",
       "      <td>1</td>\n",
       "      <td>1</td>\n",
       "      <td>1</td>\n",
       "      <td>1</td>\n",
       "      <td>1</td>\n",
       "    </tr>\n",
       "  </tbody>\n",
       "</table>\n",
       "</div>"
      ],
      "text/plain": [
       "      ip  app  device  ...  ip_hour_os  ip_hour_app  ip_hour_device\n",
       "0  22004   12       1  ...           1            1               1\n",
       "1  40024   25       1  ...           1            1               8\n",
       "2  35888   12       1  ...           1            1               1\n",
       "3  29048   13       1  ...           1            1               1\n",
       "4   2877   12       1  ...           1            1               1\n",
       "\n",
       "[5 rows x 16 columns]"
      ]
     },
     "execution_count": 25,
     "metadata": {
      "tags": []
     },
     "output_type": "execute_result"
    }
   ],
   "source": [
    "train_sample.head()"
   ]
  },
  {
   "cell_type": "code",
   "execution_count": 26,
   "metadata": {
    "colab": {
     "base_uri": "https://localhost:8080/",
     "height": 34
    },
    "colab_type": "code",
    "id": "FFRBLUFBbk6k",
    "outputId": "1742da08-ebf8-4934-e93f-a1112527e4cb"
   },
   "outputs": [
    {
     "data": {
      "text/plain": [
       "26"
      ]
     },
     "execution_count": 26,
     "metadata": {
      "tags": []
     },
     "output_type": "execute_result"
    }
   ],
   "source": [
    "import gc\n",
    "gc.collect()"
   ]
  },
  {
   "cell_type": "markdown",
   "metadata": {
    "colab_type": "text",
    "id": "wSvzdk-rbwKQ"
   },
   "source": [
    "### Modelling\n",
    "\n",
    "Let's now build models to predict the variable ```is_attributed``` (downloaded). We'll try the several variants of boosting (adaboost, gradient boosting and XGBoost), tune the hyperparameters in each model and choose the one which gives the best performance.\n",
    "\n",
    "In the original Kaggle competition, the metric for model evaluation is **area under the ROC curve**."
   ]
  },
  {
   "cell_type": "code",
   "execution_count": 27,
   "metadata": {
    "colab": {
     "base_uri": "https://localhost:8080/",
     "height": 84
    },
    "colab_type": "code",
    "id": "v-JCNaZFbnys",
    "outputId": "ea25685e-040e-4610-84df-2e6b2e590f17"
   },
   "outputs": [
    {
     "name": "stdout",
     "output_type": "stream",
     "text": [
      "(80000, 15)\n",
      "(80000, 1)\n",
      "(20000, 15)\n",
      "(20000, 1)\n"
     ]
    }
   ],
   "source": [
    "# create x and y train\n",
    "X = train_sample.drop('is_attributed', axis=1)\n",
    "y = train_sample[['is_attributed']]\n",
    "\n",
    "# split data into train and test/validation sets\n",
    "X_train, X_test, y_train, y_test = train_test_split(X, y, test_size=0.20, random_state=101)\n",
    "print(X_train.shape)\n",
    "print(y_train.shape)\n",
    "print(X_test.shape)\n",
    "print(y_test.shape)"
   ]
  },
  {
   "cell_type": "code",
   "execution_count": 28,
   "metadata": {
    "colab": {
     "base_uri": "https://localhost:8080/",
     "height": 84
    },
    "colab_type": "code",
    "id": "Z8bOHQKZb2he",
    "outputId": "3bed687f-c051-44dd-a541-80b4b2cc19b6"
   },
   "outputs": [
    {
     "name": "stdout",
     "output_type": "stream",
     "text": [
      "is_attributed    0.002275\n",
      "dtype: float64\n",
      "is_attributed    0.00225\n",
      "dtype: float64\n"
     ]
    }
   ],
   "source": [
    "# check the average download rates in train and test data, should be comparable\n",
    "print(y_train.mean())\n",
    "print(y_test.mean())"
   ]
  },
  {
   "cell_type": "markdown",
   "metadata": {
    "colab_type": "text",
    "id": "ktVlSOiRb7Pd"
   },
   "source": [
    "## Adaboost"
   ]
  },
  {
   "cell_type": "code",
   "execution_count": 0,
   "metadata": {
    "colab": {},
    "colab_type": "code",
    "id": "euBXgzRGb6Vd"
   },
   "outputs": [],
   "source": [
    "# base estimator\n",
    "tree=DecisionTreeClassifier(max_depth=2)\n",
    "\n",
    "#adaboost with tree as base estimator\n",
    "abc=AdaBoostClassifier(base_estimator=tree,\n",
    "                      n_estimators=600,\n",
    "                      learning_rate=1.5,\n",
    "                      algorithm=\"SAMME\")"
   ]
  },
  {
   "cell_type": "code",
   "execution_count": 30,
   "metadata": {
    "colab": {
     "base_uri": "https://localhost:8080/",
     "height": 289
    },
    "colab_type": "code",
    "id": "hkLR-5mzcXFf",
    "outputId": "7c6a2ad4-a948-4592-87bb-92f3bb944119"
   },
   "outputs": [
    {
     "data": {
      "text/plain": [
       "AdaBoostClassifier(algorithm='SAMME',\n",
       "                   base_estimator=DecisionTreeClassifier(class_weight=None,\n",
       "                                                         criterion='gini',\n",
       "                                                         max_depth=2,\n",
       "                                                         max_features=None,\n",
       "                                                         max_leaf_nodes=None,\n",
       "                                                         min_impurity_decrease=0.0,\n",
       "                                                         min_impurity_split=None,\n",
       "                                                         min_samples_leaf=1,\n",
       "                                                         min_samples_split=2,\n",
       "                                                         min_weight_fraction_leaf=0.0,\n",
       "                                                         presort=False,\n",
       "                                                         random_state=None,\n",
       "                                                         splitter='best'),\n",
       "                   learning_rate=1.5, n_estimators=600, random_state=None)"
      ]
     },
     "execution_count": 30,
     "metadata": {
      "tags": []
     },
     "output_type": "execute_result"
    }
   ],
   "source": [
    "# fit\n",
    "abc.fit(X_train,y_train)"
   ]
  },
  {
   "cell_type": "code",
   "execution_count": 31,
   "metadata": {
    "colab": {
     "base_uri": "https://localhost:8080/",
     "height": 185
    },
    "colab_type": "code",
    "id": "CDDFejwPc0_M",
    "outputId": "4b8085e0-1fbe-48b8-a449-ab3fbafee4f8"
   },
   "outputs": [
    {
     "data": {
      "text/plain": [
       "array([[0.5259697 , 0.4740303 ],\n",
       "       [0.52720083, 0.47279917],\n",
       "       [0.533081  , 0.466919  ],\n",
       "       [0.52194781, 0.47805219],\n",
       "       [0.51032691, 0.48967309],\n",
       "       [0.52721323, 0.47278677],\n",
       "       [0.5183883 , 0.4816117 ],\n",
       "       [0.52170927, 0.47829073],\n",
       "       [0.52412251, 0.47587749],\n",
       "       [0.51552875, 0.48447125]])"
      ]
     },
     "execution_count": 31,
     "metadata": {
      "tags": []
     },
     "output_type": "execute_result"
    }
   ],
   "source": [
    "#predictions\n",
    "pred=abc.predict_proba(X_test)\n",
    "pred[:10]"
   ]
  },
  {
   "cell_type": "code",
   "execution_count": 32,
   "metadata": {
    "colab": {
     "base_uri": "https://localhost:8080/",
     "height": 34
    },
    "colab_type": "code",
    "id": "ekqiVpHydC3G",
    "outputId": "ba7e78a6-331e-4db2-a25d-27ae3a625324"
   },
   "outputs": [
    {
     "data": {
      "text/plain": [
       "0.928385534118433"
      ]
     },
     "execution_count": 32,
     "metadata": {
      "tags": []
     },
     "output_type": "execute_result"
    }
   ],
   "source": [
    "# mtrics AUC\n",
    "metrics.roc_auc_score(y_test, pred[:,1])"
   ]
  },
  {
   "cell_type": "markdown",
   "metadata": {
    "colab_type": "text",
    "id": "IVrwXiaddUO8"
   },
   "source": [
    "## Adaboost hyperparameter Tuning"
   ]
  },
  {
   "cell_type": "code",
   "execution_count": 0,
   "metadata": {
    "colab": {},
    "colab_type": "code",
    "id": "feSxj3zMdOE0"
   },
   "outputs": [],
   "source": [
    "# parameter grid\n",
    "param_grid = {\"base_estimator__max_depth\" : [2, 5],\n",
    "              \"n_estimators\": [200, 400, 600]\n",
    "             }"
   ]
  },
  {
   "cell_type": "code",
   "execution_count": 0,
   "metadata": {
    "colab": {},
    "colab_type": "code",
    "id": "-mU18KXqdmdy"
   },
   "outputs": [],
   "source": [
    "# base estimator\n",
    "tree = DecisionTreeClassifier()\n",
    "\n",
    "# adaboost with the tree as base estimator\n",
    "# learning rate is arbitrarily set to 0.6, we'll discuss learning_rate below\n",
    "ABC = AdaBoostClassifier(\n",
    "    base_estimator=tree,\n",
    "    learning_rate=0.6,\n",
    "    algorithm=\"SAMME\")"
   ]
  },
  {
   "cell_type": "code",
   "execution_count": 0,
   "metadata": {
    "colab": {},
    "colab_type": "code",
    "id": "eeSSrEGqd31q"
   },
   "outputs": [],
   "source": [
    "# run grid search\n",
    "folds = 3\n",
    "grid_search_ABC = GridSearchCV(ABC, \n",
    "                               cv = folds,\n",
    "                               param_grid=param_grid, \n",
    "                               scoring = 'roc_auc', \n",
    "                               return_train_score=True,                         \n",
    "                               verbose = 1)"
   ]
  },
  {
   "cell_type": "code",
   "execution_count": 36,
   "metadata": {
    "colab": {
     "base_uri": "https://localhost:8080/",
     "height": 457
    },
    "colab_type": "code",
    "id": "FUvPrE7eeNl4",
    "outputId": "07b2ff3e-9791-41a5-d1b3-ed138fc659b3"
   },
   "outputs": [
    {
     "name": "stdout",
     "output_type": "stream",
     "text": [
      "Fitting 3 folds for each of 6 candidates, totalling 18 fits\n"
     ]
    },
    {
     "name": "stderr",
     "output_type": "stream",
     "text": [
      "[Parallel(n_jobs=1)]: Using backend SequentialBackend with 1 concurrent workers.\n",
      "[Parallel(n_jobs=1)]: Done  18 out of  18 | elapsed:  9.8min finished\n"
     ]
    },
    {
     "data": {
      "text/plain": [
       "GridSearchCV(cv=3, error_score='raise-deprecating',\n",
       "             estimator=AdaBoostClassifier(algorithm='SAMME',\n",
       "                                          base_estimator=DecisionTreeClassifier(class_weight=None,\n",
       "                                                                                criterion='gini',\n",
       "                                                                                max_depth=None,\n",
       "                                                                                max_features=None,\n",
       "                                                                                max_leaf_nodes=None,\n",
       "                                                                                min_impurity_decrease=0.0,\n",
       "                                                                                min_impurity_split=None,\n",
       "                                                                                min_samples_leaf=1,\n",
       "                                                                                min_samples_split=2,\n",
       "                                                                                min_weight_fraction_leaf=0.0,\n",
       "                                                                                presort=False,\n",
       "                                                                                random_state=None,\n",
       "                                                                                splitter='best'),\n",
       "                                          learning_rate=0.6, n_estimators=50,\n",
       "                                          random_state=None),\n",
       "             iid='warn', n_jobs=None,\n",
       "             param_grid={'base_estimator__max_depth': [2, 5],\n",
       "                         'n_estimators': [200, 400, 600]},\n",
       "             pre_dispatch='2*n_jobs', refit=True, return_train_score=True,\n",
       "             scoring='roc_auc', verbose=1)"
      ]
     },
     "execution_count": 36,
     "metadata": {
      "tags": []
     },
     "output_type": "execute_result"
    }
   ],
   "source": [
    "# fit \n",
    "grid_search_ABC.fit(X_train, y_train)"
   ]
  },
  {
   "cell_type": "code",
   "execution_count": 37,
   "metadata": {
    "colab": {
     "base_uri": "https://localhost:8080/",
     "height": 346
    },
    "colab_type": "code",
    "id": "4ax0K7RLeSt9",
    "outputId": "7fda2dbd-7dcf-47ea-9d1f-b10bc6597d24"
   },
   "outputs": [
    {
     "data": {
      "text/html": [
       "<div>\n",
       "<style scoped>\n",
       "    .dataframe tbody tr th:only-of-type {\n",
       "        vertical-align: middle;\n",
       "    }\n",
       "\n",
       "    .dataframe tbody tr th {\n",
       "        vertical-align: top;\n",
       "    }\n",
       "\n",
       "    .dataframe thead th {\n",
       "        text-align: right;\n",
       "    }\n",
       "</style>\n",
       "<table border=\"1\" class=\"dataframe\">\n",
       "  <thead>\n",
       "    <tr style=\"text-align: right;\">\n",
       "      <th></th>\n",
       "      <th>mean_fit_time</th>\n",
       "      <th>std_fit_time</th>\n",
       "      <th>mean_score_time</th>\n",
       "      <th>std_score_time</th>\n",
       "      <th>param_base_estimator__max_depth</th>\n",
       "      <th>param_n_estimators</th>\n",
       "      <th>params</th>\n",
       "      <th>split0_test_score</th>\n",
       "      <th>split1_test_score</th>\n",
       "      <th>split2_test_score</th>\n",
       "      <th>mean_test_score</th>\n",
       "      <th>std_test_score</th>\n",
       "      <th>rank_test_score</th>\n",
       "      <th>split0_train_score</th>\n",
       "      <th>split1_train_score</th>\n",
       "      <th>split2_train_score</th>\n",
       "      <th>mean_train_score</th>\n",
       "      <th>std_train_score</th>\n",
       "    </tr>\n",
       "  </thead>\n",
       "  <tbody>\n",
       "    <tr>\n",
       "      <th>0</th>\n",
       "      <td>9.697552</td>\n",
       "      <td>0.079741</td>\n",
       "      <td>0.304205</td>\n",
       "      <td>0.003059</td>\n",
       "      <td>2</td>\n",
       "      <td>200</td>\n",
       "      <td>{'base_estimator__max_depth': 2, 'n_estimators...</td>\n",
       "      <td>0.926966</td>\n",
       "      <td>0.975725</td>\n",
       "      <td>0.955801</td>\n",
       "      <td>0.952831</td>\n",
       "      <td>0.020017</td>\n",
       "      <td>1</td>\n",
       "      <td>0.996306</td>\n",
       "      <td>0.995094</td>\n",
       "      <td>0.996461</td>\n",
       "      <td>0.995954</td>\n",
       "      <td>6.111043e-04</td>\n",
       "    </tr>\n",
       "    <tr>\n",
       "      <th>1</th>\n",
       "      <td>19.408338</td>\n",
       "      <td>0.205433</td>\n",
       "      <td>0.586873</td>\n",
       "      <td>0.006756</td>\n",
       "      <td>2</td>\n",
       "      <td>400</td>\n",
       "      <td>{'base_estimator__max_depth': 2, 'n_estimators...</td>\n",
       "      <td>0.920643</td>\n",
       "      <td>0.974585</td>\n",
       "      <td>0.956496</td>\n",
       "      <td>0.950575</td>\n",
       "      <td>0.022416</td>\n",
       "      <td>2</td>\n",
       "      <td>0.997991</td>\n",
       "      <td>0.996683</td>\n",
       "      <td>0.997996</td>\n",
       "      <td>0.997556</td>\n",
       "      <td>6.179779e-04</td>\n",
       "    </tr>\n",
       "    <tr>\n",
       "      <th>2</th>\n",
       "      <td>29.033770</td>\n",
       "      <td>0.127067</td>\n",
       "      <td>0.868224</td>\n",
       "      <td>0.007076</td>\n",
       "      <td>2</td>\n",
       "      <td>600</td>\n",
       "      <td>{'base_estimator__max_depth': 2, 'n_estimators...</td>\n",
       "      <td>0.921720</td>\n",
       "      <td>0.973335</td>\n",
       "      <td>0.953955</td>\n",
       "      <td>0.949670</td>\n",
       "      <td>0.021288</td>\n",
       "      <td>3</td>\n",
       "      <td>0.998494</td>\n",
       "      <td>0.997923</td>\n",
       "      <td>0.998417</td>\n",
       "      <td>0.998278</td>\n",
       "      <td>2.530744e-04</td>\n",
       "    </tr>\n",
       "    <tr>\n",
       "      <th>3</th>\n",
       "      <td>20.886889</td>\n",
       "      <td>0.193437</td>\n",
       "      <td>0.378716</td>\n",
       "      <td>0.001470</td>\n",
       "      <td>5</td>\n",
       "      <td>200</td>\n",
       "      <td>{'base_estimator__max_depth': 5, 'n_estimators...</td>\n",
       "      <td>0.902358</td>\n",
       "      <td>0.943094</td>\n",
       "      <td>0.937463</td>\n",
       "      <td>0.927638</td>\n",
       "      <td>0.018023</td>\n",
       "      <td>4</td>\n",
       "      <td>1.000000</td>\n",
       "      <td>1.000000</td>\n",
       "      <td>1.000000</td>\n",
       "      <td>1.000000</td>\n",
       "      <td>0.000000e+00</td>\n",
       "    </tr>\n",
       "    <tr>\n",
       "      <th>4</th>\n",
       "      <td>42.283430</td>\n",
       "      <td>0.308036</td>\n",
       "      <td>0.748982</td>\n",
       "      <td>0.006909</td>\n",
       "      <td>5</td>\n",
       "      <td>400</td>\n",
       "      <td>{'base_estimator__max_depth': 5, 'n_estimators...</td>\n",
       "      <td>0.900795</td>\n",
       "      <td>0.931125</td>\n",
       "      <td>0.945019</td>\n",
       "      <td>0.925646</td>\n",
       "      <td>0.018465</td>\n",
       "      <td>5</td>\n",
       "      <td>1.000000</td>\n",
       "      <td>1.000000</td>\n",
       "      <td>1.000000</td>\n",
       "      <td>1.000000</td>\n",
       "      <td>0.000000e+00</td>\n",
       "    </tr>\n",
       "    <tr>\n",
       "      <th>5</th>\n",
       "      <td>63.452610</td>\n",
       "      <td>0.791986</td>\n",
       "      <td>1.107653</td>\n",
       "      <td>0.001097</td>\n",
       "      <td>5</td>\n",
       "      <td>600</td>\n",
       "      <td>{'base_estimator__max_depth': 5, 'n_estimators...</td>\n",
       "      <td>0.882437</td>\n",
       "      <td>0.925900</td>\n",
       "      <td>0.937725</td>\n",
       "      <td>0.915354</td>\n",
       "      <td>0.023771</td>\n",
       "      <td>6</td>\n",
       "      <td>1.000000</td>\n",
       "      <td>1.000000</td>\n",
       "      <td>1.000000</td>\n",
       "      <td>1.000000</td>\n",
       "      <td>6.409876e-17</td>\n",
       "    </tr>\n",
       "  </tbody>\n",
       "</table>\n",
       "</div>"
      ],
      "text/plain": [
       "   mean_fit_time  std_fit_time  ...  mean_train_score  std_train_score\n",
       "0       9.697552      0.079741  ...          0.995954     6.111043e-04\n",
       "1      19.408338      0.205433  ...          0.997556     6.179779e-04\n",
       "2      29.033770      0.127067  ...          0.998278     2.530744e-04\n",
       "3      20.886889      0.193437  ...          1.000000     0.000000e+00\n",
       "4      42.283430      0.308036  ...          1.000000     0.000000e+00\n",
       "5      63.452610      0.791986  ...          1.000000     6.409876e-17\n",
       "\n",
       "[6 rows x 18 columns]"
      ]
     },
     "execution_count": 37,
     "metadata": {
      "tags": []
     },
     "output_type": "execute_result"
    }
   ],
   "source": [
    "cv_results=pd.DataFrame(grid_search_ABC.cv_results_)\n",
    "cv_results"
   ]
  },
  {
   "cell_type": "code",
   "execution_count": 38,
   "metadata": {
    "colab": {
     "base_uri": "https://localhost:8080/",
     "height": 246
    },
    "colab_type": "code",
    "id": "Ay6MM36y4eg7",
    "outputId": "22593faf-f9e0-4108-e206-14820ead6394"
   },
   "outputs": [
    {
     "ename": "KeyError",
     "evalue": "ignored",
     "output_type": "error",
     "traceback": [
      "\u001b[0;31m---------------------------------------------------------------------------\u001b[0m",
      "\u001b[0;31mKeyError\u001b[0m                                  Traceback (most recent call last)",
      "\u001b[0;32m<ipython-input-38-1d58364fccd8>\u001b[0m in \u001b[0;36m<module>\u001b[0;34m()\u001b[0m\n\u001b[1;32m      1\u001b[0m \u001b[0;34m\u001b[0m\u001b[0m\n\u001b[1;32m      2\u001b[0m \u001b[0mplt\u001b[0m\u001b[0;34m.\u001b[0m\u001b[0mfigure\u001b[0m\u001b[0;34m(\u001b[0m\u001b[0mfigsize\u001b[0m\u001b[0;34m=\u001b[0m\u001b[0;34m(\u001b[0m\u001b[0;36m16\u001b[0m\u001b[0;34m,\u001b[0m\u001b[0;36m6\u001b[0m\u001b[0;34m)\u001b[0m\u001b[0;34m)\u001b[0m\u001b[0;34m\u001b[0m\u001b[0;34m\u001b[0m\u001b[0m\n\u001b[0;32m----> 3\u001b[0;31m \u001b[0;32mfor\u001b[0m \u001b[0mdepth\u001b[0m \u001b[0;32min\u001b[0m \u001b[0menumerate\u001b[0m\u001b[0;34m(\u001b[0m\u001b[0mparam_grid\u001b[0m\u001b[0;34m[\u001b[0m\u001b[0;34m'base_estimator_max_depth'\u001b[0m\u001b[0;34m]\u001b[0m\u001b[0;34m)\u001b[0m\u001b[0;34m:\u001b[0m\u001b[0;34m\u001b[0m\u001b[0;34m\u001b[0m\u001b[0m\n\u001b[0m\u001b[1;32m      4\u001b[0m \u001b[0;34m\u001b[0m\u001b[0m\n\u001b[1;32m      5\u001b[0m   \u001b[0;31m#subplot 1/n\u001b[0m\u001b[0;34m\u001b[0m\u001b[0;34m\u001b[0m\u001b[0;34m\u001b[0m\u001b[0m\n",
      "\u001b[0;31mKeyError\u001b[0m: 'base_estimator_max_depth'"
     ]
    },
    {
     "data": {
      "text/plain": [
       "<Figure size 1152x432 with 0 Axes>"
      ]
     },
     "metadata": {
      "tags": []
     },
     "output_type": "display_data"
    }
   ],
   "source": [
    "#plotting AUC with hyperparameter combination\n",
    "\n",
    "plt.figure(figsize=(16,6))\n",
    "for depth in enumerate(param_grid['base_estimator_max_depth']):\n",
    "  \n",
    "  #subplot 1/n\n",
    "  plt.subplot(1,3,2)\n",
    "  depth_df = cv_results[cv_results['param_base_estimator_max_depth']==depth]\n",
    "\n",
    "  plt.plot(depth_df[\"param_n_estimators\"], depth_df[\"mean_test_score\"])\n",
    "  plt.plot(depth_df[\"param_n_estimators\"], depth_df[\"mean_train_score\"])\n",
    "  plt.xlabel('n_estimators')\n",
    "  plt.ylabel('AUC')\n",
    "  plt.title(\"max_depth={0}\".format(depth))\n",
    "  plt.ylim([0.60, 1])\n",
    "  plt.legend(['test score', 'train score'], loc='upper left')\n",
    "  plt.xscale('log')"
   ]
  },
  {
   "cell_type": "markdown",
   "metadata": {
    "colab_type": "text",
    "id": "ivLhKThF9eAb"
   },
   "source": [
    "### Gradient Boosting Classifier"
   ]
  },
  {
   "cell_type": "markdown",
   "metadata": {
    "colab_type": "text",
    "id": "iqbLLe2N_By3"
   },
   "source": [
    "Let's now try the gradient boosting classifier. We'll experiment with two main hyperparameters now - ```learning_rate``` (shrinkage) and ```subsample```. \n",
    "\n",
    "By adjusting the learning rate to less than 1, we can regularize the model. A model with higher learning_rate learns fast, but is prone to overfitting; one with a lower learning rate learns slowly, but avoids overfitting.\n",
    "\n",
    "Also, there's a trade-off between ```learning_rate``` and ```n_estimators``` - the higher the learning rate, the lesser trees the model needs (and thus we usually tune only one of them).\n",
    "\n",
    "Also, by subsampling (setting ```subsample``` to less than 1), we can have the individual models built on random subsamples of size ```subsample```. That way, each tree will be trained on different subsets and reduce the model's variance."
   ]
  },
  {
   "cell_type": "code",
   "execution_count": 0,
   "metadata": {
    "colab": {},
    "colab_type": "code",
    "id": "05IR2qfh8Zsm"
   },
   "outputs": [],
   "source": [
    "#parameter grid\n",
    "param_grid={\"learning_rate\":[0.2,0.6,0.9],\n",
    "           \"subsample\":[0.3,0.6,0.9]}"
   ]
  },
  {
   "cell_type": "code",
   "execution_count": 0,
   "metadata": {
    "colab": {},
    "colab_type": "code",
    "id": "OsDt8OBq_PwV"
   },
   "outputs": [],
   "source": [
    "# adaboost with tree as base estimator\n",
    "GBC=GradientBoostingClassifier(max_depth=2, n_estimators=200)"
   ]
  },
  {
   "cell_type": "code",
   "execution_count": 0,
   "metadata": {
    "colab": {},
    "colab_type": "code",
    "id": "-PcVifte_b5E"
   },
   "outputs": [],
   "source": [
    "#running grid search\n",
    "folds=3\n",
    "grid_search_GBC=GridSearchCV(GBC,\n",
    "                            cv=folds,\n",
    "                            param_grid=param_grid,\n",
    "                            scoring='roc_auc',\n",
    "                            return_train_score=True,\n",
    "                            verbose=1)"
   ]
  },
  {
   "cell_type": "code",
   "execution_count": 43,
   "metadata": {
    "colab": {
     "base_uri": "https://localhost:8080/",
     "height": 454
    },
    "colab_type": "code",
    "id": "FxhgQP9r_t9i",
    "outputId": "059d06a5-23a5-45fe-e5b1-d7d07d17061e"
   },
   "outputs": [
    {
     "name": "stdout",
     "output_type": "stream",
     "text": [
      "Fitting 3 folds for each of 9 candidates, totalling 27 fits\n"
     ]
    },
    {
     "name": "stderr",
     "output_type": "stream",
     "text": [
      "[Parallel(n_jobs=1)]: Using backend SequentialBackend with 1 concurrent workers.\n",
      "[Parallel(n_jobs=1)]: Done  27 out of  27 | elapsed:  2.5min finished\n"
     ]
    },
    {
     "data": {
      "text/plain": [
       "GridSearchCV(cv=3, error_score='raise-deprecating',\n",
       "             estimator=GradientBoostingClassifier(criterion='friedman_mse',\n",
       "                                                  init=None, learning_rate=0.1,\n",
       "                                                  loss='deviance', max_depth=2,\n",
       "                                                  max_features=None,\n",
       "                                                  max_leaf_nodes=None,\n",
       "                                                  min_impurity_decrease=0.0,\n",
       "                                                  min_impurity_split=None,\n",
       "                                                  min_samples_leaf=1,\n",
       "                                                  min_samples_split=2,\n",
       "                                                  min_weight_fraction_leaf=0.0,\n",
       "                                                  n_estimators=200,\n",
       "                                                  n_iter_no_change=None,\n",
       "                                                  presort='auto',\n",
       "                                                  random_state=None,\n",
       "                                                  subsample=1.0, tol=0.0001,\n",
       "                                                  validation_fraction=0.1,\n",
       "                                                  verbose=0, warm_start=False),\n",
       "             iid='warn', n_jobs=None,\n",
       "             param_grid={'learning_rate': [0.2, 0.6, 0.9],\n",
       "                         'subsample': [0.3, 0.6, 0.9]},\n",
       "             pre_dispatch='2*n_jobs', refit=True, return_train_score=True,\n",
       "             scoring='roc_auc', verbose=1)"
      ]
     },
     "execution_count": 43,
     "metadata": {
      "tags": []
     },
     "output_type": "execute_result"
    }
   ],
   "source": [
    "grid_search_GBC.fit(X_train,y_train)"
   ]
  },
  {
   "cell_type": "code",
   "execution_count": 45,
   "metadata": {
    "colab": {
     "base_uri": "https://localhost:8080/",
     "height": 467
    },
    "colab_type": "code",
    "id": "1L6U9VK5_0c_",
    "outputId": "f7119dd1-87b4-4770-b5da-cb99d64cc5c3"
   },
   "outputs": [
    {
     "data": {
      "text/html": [
       "<div>\n",
       "<style scoped>\n",
       "    .dataframe tbody tr th:only-of-type {\n",
       "        vertical-align: middle;\n",
       "    }\n",
       "\n",
       "    .dataframe tbody tr th {\n",
       "        vertical-align: top;\n",
       "    }\n",
       "\n",
       "    .dataframe thead th {\n",
       "        text-align: right;\n",
       "    }\n",
       "</style>\n",
       "<table border=\"1\" class=\"dataframe\">\n",
       "  <thead>\n",
       "    <tr style=\"text-align: right;\">\n",
       "      <th></th>\n",
       "      <th>mean_fit_time</th>\n",
       "      <th>std_fit_time</th>\n",
       "      <th>mean_score_time</th>\n",
       "      <th>std_score_time</th>\n",
       "      <th>param_learning_rate</th>\n",
       "      <th>param_subsample</th>\n",
       "      <th>params</th>\n",
       "      <th>split0_test_score</th>\n",
       "      <th>split1_test_score</th>\n",
       "      <th>split2_test_score</th>\n",
       "      <th>mean_test_score</th>\n",
       "      <th>std_test_score</th>\n",
       "      <th>rank_test_score</th>\n",
       "      <th>split0_train_score</th>\n",
       "      <th>split1_train_score</th>\n",
       "      <th>split2_train_score</th>\n",
       "      <th>mean_train_score</th>\n",
       "      <th>std_train_score</th>\n",
       "    </tr>\n",
       "  </thead>\n",
       "  <tbody>\n",
       "    <tr>\n",
       "      <th>0</th>\n",
       "      <td>5.012208</td>\n",
       "      <td>0.042615</td>\n",
       "      <td>0.040576</td>\n",
       "      <td>0.001229</td>\n",
       "      <td>0.2</td>\n",
       "      <td>0.3</td>\n",
       "      <td>{'learning_rate': 0.2, 'subsample': 0.3}</td>\n",
       "      <td>0.455238</td>\n",
       "      <td>0.825392</td>\n",
       "      <td>0.799772</td>\n",
       "      <td>0.693466</td>\n",
       "      <td>0.168779</td>\n",
       "      <td>4</td>\n",
       "      <td>0.563767</td>\n",
       "      <td>0.873153</td>\n",
       "      <td>0.857625</td>\n",
       "      <td>0.764848</td>\n",
       "      <td>0.142327</td>\n",
       "    </tr>\n",
       "    <tr>\n",
       "      <th>1</th>\n",
       "      <td>6.118779</td>\n",
       "      <td>0.043162</td>\n",
       "      <td>0.040450</td>\n",
       "      <td>0.001058</td>\n",
       "      <td>0.2</td>\n",
       "      <td>0.6</td>\n",
       "      <td>{'learning_rate': 0.2, 'subsample': 0.6}</td>\n",
       "      <td>0.906015</td>\n",
       "      <td>0.943355</td>\n",
       "      <td>0.790963</td>\n",
       "      <td>0.880112</td>\n",
       "      <td>0.064854</td>\n",
       "      <td>1</td>\n",
       "      <td>0.905959</td>\n",
       "      <td>0.913540</td>\n",
       "      <td>0.810068</td>\n",
       "      <td>0.876522</td>\n",
       "      <td>0.047092</td>\n",
       "    </tr>\n",
       "    <tr>\n",
       "      <th>2</th>\n",
       "      <td>5.334292</td>\n",
       "      <td>0.101674</td>\n",
       "      <td>0.042598</td>\n",
       "      <td>0.001639</td>\n",
       "      <td>0.2</td>\n",
       "      <td>0.9</td>\n",
       "      <td>{'learning_rate': 0.2, 'subsample': 0.9}</td>\n",
       "      <td>0.793566</td>\n",
       "      <td>0.885267</td>\n",
       "      <td>0.932241</td>\n",
       "      <td>0.870357</td>\n",
       "      <td>0.057587</td>\n",
       "      <td>2</td>\n",
       "      <td>0.753398</td>\n",
       "      <td>0.927485</td>\n",
       "      <td>0.886840</td>\n",
       "      <td>0.855908</td>\n",
       "      <td>0.074360</td>\n",
       "    </tr>\n",
       "    <tr>\n",
       "      <th>3</th>\n",
       "      <td>4.965872</td>\n",
       "      <td>0.020857</td>\n",
       "      <td>0.039923</td>\n",
       "      <td>0.001088</td>\n",
       "      <td>0.6</td>\n",
       "      <td>0.3</td>\n",
       "      <td>{'learning_rate': 0.6, 'subsample': 0.3}</td>\n",
       "      <td>0.601543</td>\n",
       "      <td>0.687398</td>\n",
       "      <td>0.641164</td>\n",
       "      <td>0.643368</td>\n",
       "      <td>0.035085</td>\n",
       "      <td>5</td>\n",
       "      <td>0.537118</td>\n",
       "      <td>0.738693</td>\n",
       "      <td>0.612332</td>\n",
       "      <td>0.629381</td>\n",
       "      <td>0.083171</td>\n",
       "    </tr>\n",
       "    <tr>\n",
       "      <th>4</th>\n",
       "      <td>6.064020</td>\n",
       "      <td>0.075476</td>\n",
       "      <td>0.038816</td>\n",
       "      <td>0.000823</td>\n",
       "      <td>0.6</td>\n",
       "      <td>0.6</td>\n",
       "      <td>{'learning_rate': 0.6, 'subsample': 0.6}</td>\n",
       "      <td>0.790351</td>\n",
       "      <td>0.520513</td>\n",
       "      <td>0.816287</td>\n",
       "      <td>0.709049</td>\n",
       "      <td>0.133736</td>\n",
       "      <td>3</td>\n",
       "      <td>0.764350</td>\n",
       "      <td>0.581366</td>\n",
       "      <td>0.841490</td>\n",
       "      <td>0.729068</td>\n",
       "      <td>0.109086</td>\n",
       "    </tr>\n",
       "  </tbody>\n",
       "</table>\n",
       "</div>"
      ],
      "text/plain": [
       "   mean_fit_time  std_fit_time  ...  mean_train_score  std_train_score\n",
       "0       5.012208      0.042615  ...          0.764848         0.142327\n",
       "1       6.118779      0.043162  ...          0.876522         0.047092\n",
       "2       5.334292      0.101674  ...          0.855908         0.074360\n",
       "3       4.965872      0.020857  ...          0.629381         0.083171\n",
       "4       6.064020      0.075476  ...          0.729068         0.109086\n",
       "\n",
       "[5 rows x 18 columns]"
      ]
     },
     "execution_count": 45,
     "metadata": {
      "tags": []
     },
     "output_type": "execute_result"
    }
   ],
   "source": [
    "cv_results=pd.DataFrame(grid_search_GBC.cv_results_)\n",
    "cv_results.head()"
   ]
  },
  {
   "cell_type": "code",
   "execution_count": 46,
   "metadata": {
    "colab": {
     "base_uri": "https://localhost:8080/",
     "height": 427
    },
    "colab_type": "code",
    "id": "0YmDlMRHAILM",
    "outputId": "341ca4ef-af48-4a7b-b78c-d72a08b49379"
   },
   "outputs": [
    {
     "data": {
      "image/png": "[encoded data removed]",
      "text/plain": [
       "<Figure size 1152x432 with 3 Axes>"
      ]
     },
     "metadata": {
      "tags": []
     },
     "output_type": "display_data"
    }
   ],
   "source": [
    "# # plotting\n",
    "plt.figure(figsize=(16,6))\n",
    "\n",
    "\n",
    "for n, subsample in enumerate(param_grid['subsample']):\n",
    "    \n",
    "\n",
    "    # subplot 1/n\n",
    "    plt.subplot(1,len(param_grid['subsample']), n+1)\n",
    "    df = cv_results[cv_results['param_subsample']==subsample]\n",
    "\n",
    "    plt.plot(df[\"param_learning_rate\"], df[\"mean_test_score\"])\n",
    "    plt.plot(df[\"param_learning_rate\"], df[\"mean_train_score\"])\n",
    "    plt.xlabel('learning_rate')\n",
    "    plt.ylabel('AUC')\n",
    "    plt.title(\"subsample={0}\".format(subsample))\n",
    "    plt.ylim([0.60, 1])\n",
    "    plt.legend(['test score', 'train score'], loc='upper left')\n",
    "    plt.xscale('log')"
   ]
  },
  {
   "cell_type": "markdown",
   "metadata": {
    "colab_type": "text",
    "id": "f5__augGPbKy"
   },
   "source": [
    "## XGBoost"
   ]
  },
  {
   "cell_type": "code",
   "execution_count": 47,
   "metadata": {
    "colab": {
     "base_uri": "https://localhost:8080/",
     "height": 134
    },
    "colab_type": "code",
    "id": "OhMiXIfANaTn",
    "outputId": "a14595f9-8033-49ef-c6d0-4e1832775a3d"
   },
   "outputs": [
    {
     "data": {
      "text/plain": [
       "XGBClassifier(base_score=0.5, booster='gbtree', colsample_bylevel=1,\n",
       "              colsample_bynode=1, colsample_bytree=1, gamma=0,\n",
       "              learning_rate=0.1, max_delta_step=0, max_depth=3,\n",
       "              min_child_weight=1, missing=None, n_estimators=100, n_jobs=1,\n",
       "              nthread=None, objective='binary:logistic', random_state=0,\n",
       "              reg_alpha=0, reg_lambda=1, scale_pos_weight=1, seed=None,\n",
       "              silent=None, subsample=1, verbosity=1)"
      ]
     },
     "execution_count": 47,
     "metadata": {
      "tags": []
     },
     "output_type": "execute_result"
    }
   ],
   "source": [
    "model=XGBClassifier()\n",
    "model.fit(X_train,y_train)"
   ]
  },
  {
   "cell_type": "code",
   "execution_count": 48,
   "metadata": {
    "colab": {
     "base_uri": "https://localhost:8080/",
     "height": 185
    },
    "colab_type": "code",
    "id": "UlD9f7vxPjWC",
    "outputId": "d7cec17a-0af5-4cbb-ee48-6bf72470796d"
   },
   "outputs": [
    {
     "data": {
      "text/plain": [
       "array([[9.9987620e-01, 1.2377757e-04],\n",
       "       [9.9980235e-01, 1.9764129e-04],\n",
       "       [9.9981219e-01, 1.8779545e-04],\n",
       "       [9.9935341e-01, 6.4659910e-04],\n",
       "       [9.9839455e-01, 1.6054598e-03],\n",
       "       [9.9982888e-01, 1.7113073e-04],\n",
       "       [9.9954700e-01, 4.5297624e-04],\n",
       "       [9.9944913e-01, 5.5086729e-04],\n",
       "       [9.9976951e-01, 2.3048650e-04],\n",
       "       [9.9696469e-01, 3.0353032e-03]], dtype=float32)"
      ]
     },
     "execution_count": 48,
     "metadata": {
      "tags": []
     },
     "output_type": "execute_result"
    }
   ],
   "source": [
    "y_pred=model.predict_proba(X_test)\n",
    "y_pred[:10]"
   ]
  },
  {
   "cell_type": "code",
   "execution_count": 51,
   "metadata": {
    "colab": {
     "base_uri": "https://localhost:8080/",
     "height": 34
    },
    "colab_type": "code",
    "id": "18kDBTK6Pu7x",
    "outputId": "933e03df-6c07-452b-e614-d8595c5073c9"
   },
   "outputs": [
    {
     "name": "stdout",
     "output_type": "stream",
     "text": [
      "AUC: 94.85%\n"
     ]
    }
   ],
   "source": [
    "roc=metrics.roc_auc_score(y_test,y_pred[:,1])\n",
    "print(\"AUC: %0.2f%%\" % (roc*100))"
   ]
  },
  {
   "cell_type": "code",
   "execution_count": 0,
   "metadata": {
    "colab": {},
    "colab_type": "code",
    "id": "fIGX0IwMP7Vw"
   },
   "outputs": [],
   "source": [
    "# hyperparameter tuning with XGBoost\n",
    "\n",
    "# creating a KFold object \n",
    "folds = 3\n",
    "\n",
    "# specify range of hyperparameters\n",
    "param_grid = {'learning_rate': [0.2, 0.6], \n",
    "             'subsample': [0.3, 0.6, 0.9]}          \n",
    "\n",
    "\n",
    "# specify model\n",
    "xgb_model = XGBClassifier(max_depth=2, n_estimators=200)\n",
    "\n",
    "# set up GridSearchCV()\n",
    "model_cv = GridSearchCV(estimator = xgb_model, \n",
    "                        param_grid = param_grid, \n",
    "                        scoring= 'roc_auc', \n",
    "                        cv = folds, \n",
    "                        verbose = 1,\n",
    "                        return_train_score=True)      \n"
   ]
  },
  {
   "cell_type": "code",
   "execution_count": 53,
   "metadata": {
    "colab": {
     "base_uri": "https://localhost:8080/",
     "height": 336
    },
    "colab_type": "code",
    "id": "LR5kfI8IQFxF",
    "outputId": "3477c3ce-25ec-475f-b6e6-c840cf54bafb"
   },
   "outputs": [
    {
     "name": "stdout",
     "output_type": "stream",
     "text": [
      "Fitting 3 folds for each of 6 candidates, totalling 18 fits\n"
     ]
    },
    {
     "name": "stderr",
     "output_type": "stream",
     "text": [
      "[Parallel(n_jobs=1)]: Using backend SequentialBackend with 1 concurrent workers.\n",
      "[Parallel(n_jobs=1)]: Done  18 out of  18 | elapsed:  1.7min finished\n"
     ]
    },
    {
     "data": {
      "text/plain": [
       "GridSearchCV(cv=3, error_score='raise-deprecating',\n",
       "             estimator=XGBClassifier(base_score=0.5, booster='gbtree',\n",
       "                                     colsample_bylevel=1, colsample_bynode=1,\n",
       "                                     colsample_bytree=1, gamma=0,\n",
       "                                     learning_rate=0.1, max_delta_step=0,\n",
       "                                     max_depth=2, min_child_weight=1,\n",
       "                                     missing=None, n_estimators=200, n_jobs=1,\n",
       "                                     nthread=None, objective='binary:logistic',\n",
       "                                     random_state=0, reg_alpha=0, reg_lambda=1,\n",
       "                                     scale_pos_weight=1, seed=None, silent=None,\n",
       "                                     subsample=1, verbosity=1),\n",
       "             iid='warn', n_jobs=None,\n",
       "             param_grid={'learning_rate': [0.2, 0.6],\n",
       "                         'subsample': [0.3, 0.6, 0.9]},\n",
       "             pre_dispatch='2*n_jobs', refit=True, return_train_score=True,\n",
       "             scoring='roc_auc', verbose=1)"
      ]
     },
     "execution_count": 53,
     "metadata": {
      "tags": []
     },
     "output_type": "execute_result"
    }
   ],
   "source": [
    "model_cv.fit(X_train,y_train)"
   ]
  },
  {
   "cell_type": "code",
   "execution_count": 54,
   "metadata": {
    "colab": {
     "base_uri": "https://localhost:8080/",
     "height": 547
    },
    "colab_type": "code",
    "id": "4d7kQXRBQLMv",
    "outputId": "956311c7-6373-4014-b7b0-693de3aefa30"
   },
   "outputs": [
    {
     "data": {
      "text/html": [
       "<div>\n",
       "<style scoped>\n",
       "    .dataframe tbody tr th:only-of-type {\n",
       "        vertical-align: middle;\n",
       "    }\n",
       "\n",
       "    .dataframe tbody tr th {\n",
       "        vertical-align: top;\n",
       "    }\n",
       "\n",
       "    .dataframe thead th {\n",
       "        text-align: right;\n",
       "    }\n",
       "</style>\n",
       "<table border=\"1\" class=\"dataframe\">\n",
       "  <thead>\n",
       "    <tr style=\"text-align: right;\">\n",
       "      <th></th>\n",
       "      <th>mean_fit_time</th>\n",
       "      <th>std_fit_time</th>\n",
       "      <th>mean_score_time</th>\n",
       "      <th>std_score_time</th>\n",
       "      <th>param_learning_rate</th>\n",
       "      <th>param_subsample</th>\n",
       "      <th>params</th>\n",
       "      <th>split0_test_score</th>\n",
       "      <th>split1_test_score</th>\n",
       "      <th>split2_test_score</th>\n",
       "      <th>mean_test_score</th>\n",
       "      <th>std_test_score</th>\n",
       "      <th>rank_test_score</th>\n",
       "      <th>split0_train_score</th>\n",
       "      <th>split1_train_score</th>\n",
       "      <th>split2_train_score</th>\n",
       "      <th>mean_train_score</th>\n",
       "      <th>std_train_score</th>\n",
       "    </tr>\n",
       "  </thead>\n",
       "  <tbody>\n",
       "    <tr>\n",
       "      <th>0</th>\n",
       "      <td>4.974562</td>\n",
       "      <td>0.021567</td>\n",
       "      <td>0.131034</td>\n",
       "      <td>0.001618</td>\n",
       "      <td>0.2</td>\n",
       "      <td>0.3</td>\n",
       "      <td>{'learning_rate': 0.2, 'subsample': 0.3}</td>\n",
       "      <td>0.914064</td>\n",
       "      <td>0.971373</td>\n",
       "      <td>0.962963</td>\n",
       "      <td>0.949467</td>\n",
       "      <td>0.025268</td>\n",
       "      <td>3</td>\n",
       "      <td>0.990450</td>\n",
       "      <td>0.984303</td>\n",
       "      <td>0.988183</td>\n",
       "      <td>0.987645</td>\n",
       "      <td>0.002538</td>\n",
       "    </tr>\n",
       "    <tr>\n",
       "      <th>1</th>\n",
       "      <td>5.529229</td>\n",
       "      <td>0.007631</td>\n",
       "      <td>0.127776</td>\n",
       "      <td>0.000909</td>\n",
       "      <td>0.2</td>\n",
       "      <td>0.6</td>\n",
       "      <td>{'learning_rate': 0.2, 'subsample': 0.6}</td>\n",
       "      <td>0.926961</td>\n",
       "      <td>0.973582</td>\n",
       "      <td>0.961443</td>\n",
       "      <td>0.953995</td>\n",
       "      <td>0.019748</td>\n",
       "      <td>1</td>\n",
       "      <td>0.994016</td>\n",
       "      <td>0.986355</td>\n",
       "      <td>0.992693</td>\n",
       "      <td>0.991021</td>\n",
       "      <td>0.003343</td>\n",
       "    </tr>\n",
       "    <tr>\n",
       "      <th>2</th>\n",
       "      <td>4.925866</td>\n",
       "      <td>0.046013</td>\n",
       "      <td>0.127238</td>\n",
       "      <td>0.002910</td>\n",
       "      <td>0.2</td>\n",
       "      <td>0.9</td>\n",
       "      <td>{'learning_rate': 0.2, 'subsample': 0.9}</td>\n",
       "      <td>0.924236</td>\n",
       "      <td>0.975867</td>\n",
       "      <td>0.951012</td>\n",
       "      <td>0.950372</td>\n",
       "      <td>0.021083</td>\n",
       "      <td>2</td>\n",
       "      <td>0.992880</td>\n",
       "      <td>0.989807</td>\n",
       "      <td>0.993936</td>\n",
       "      <td>0.992208</td>\n",
       "      <td>0.001752</td>\n",
       "    </tr>\n",
       "    <tr>\n",
       "      <th>3</th>\n",
       "      <td>4.944206</td>\n",
       "      <td>0.022930</td>\n",
       "      <td>0.130203</td>\n",
       "      <td>0.002040</td>\n",
       "      <td>0.6</td>\n",
       "      <td>0.3</td>\n",
       "      <td>{'learning_rate': 0.6, 'subsample': 0.3}</td>\n",
       "      <td>0.885865</td>\n",
       "      <td>0.957231</td>\n",
       "      <td>0.940434</td>\n",
       "      <td>0.927843</td>\n",
       "      <td>0.030465</td>\n",
       "      <td>6</td>\n",
       "      <td>0.997522</td>\n",
       "      <td>0.991143</td>\n",
       "      <td>0.993425</td>\n",
       "      <td>0.994030</td>\n",
       "      <td>0.002639</td>\n",
       "    </tr>\n",
       "    <tr>\n",
       "      <th>4</th>\n",
       "      <td>5.535833</td>\n",
       "      <td>0.031588</td>\n",
       "      <td>0.128227</td>\n",
       "      <td>0.001269</td>\n",
       "      <td>0.6</td>\n",
       "      <td>0.6</td>\n",
       "      <td>{'learning_rate': 0.6, 'subsample': 0.6}</td>\n",
       "      <td>0.893749</td>\n",
       "      <td>0.967978</td>\n",
       "      <td>0.955700</td>\n",
       "      <td>0.939142</td>\n",
       "      <td>0.032487</td>\n",
       "      <td>5</td>\n",
       "      <td>0.999624</td>\n",
       "      <td>0.997823</td>\n",
       "      <td>0.998964</td>\n",
       "      <td>0.998804</td>\n",
       "      <td>0.000744</td>\n",
       "    </tr>\n",
       "    <tr>\n",
       "      <th>5</th>\n",
       "      <td>4.933936</td>\n",
       "      <td>0.029902</td>\n",
       "      <td>0.129138</td>\n",
       "      <td>0.001349</td>\n",
       "      <td>0.6</td>\n",
       "      <td>0.9</td>\n",
       "      <td>{'learning_rate': 0.6, 'subsample': 0.9}</td>\n",
       "      <td>0.923785</td>\n",
       "      <td>0.975658</td>\n",
       "      <td>0.947313</td>\n",
       "      <td>0.948919</td>\n",
       "      <td>0.021207</td>\n",
       "      <td>4</td>\n",
       "      <td>0.999633</td>\n",
       "      <td>0.999070</td>\n",
       "      <td>0.999660</td>\n",
       "      <td>0.999454</td>\n",
       "      <td>0.000272</td>\n",
       "    </tr>\n",
       "  </tbody>\n",
       "</table>\n",
       "</div>"
      ],
      "text/plain": [
       "   mean_fit_time  std_fit_time  ...  mean_train_score  std_train_score\n",
       "0       4.974562      0.021567  ...          0.987645         0.002538\n",
       "1       5.529229      0.007631  ...          0.991021         0.003343\n",
       "2       4.925866      0.046013  ...          0.992208         0.001752\n",
       "3       4.944206      0.022930  ...          0.994030         0.002639\n",
       "4       5.535833      0.031588  ...          0.998804         0.000744\n",
       "5       4.933936      0.029902  ...          0.999454         0.000272\n",
       "\n",
       "[6 rows x 18 columns]"
      ]
     },
     "execution_count": 54,
     "metadata": {
      "tags": []
     },
     "output_type": "execute_result"
    }
   ],
   "source": [
    "# cv results\n",
    "cv_results = pd.DataFrame(model_cv.cv_results_)\n",
    "cv_results"
   ]
  },
  {
   "cell_type": "code",
   "execution_count": 57,
   "metadata": {
    "colab": {
     "base_uri": "https://localhost:8080/",
     "height": 467
    },
    "colab_type": "code",
    "id": "lSQ5Eu5GR9ix",
    "outputId": "98a02cfc-c4c8-434f-a8b2-e282e9b593d8"
   },
   "outputs": [
    {
     "data": {
      "text/html": [
       "<div>\n",
       "<style scoped>\n",
       "    .dataframe tbody tr th:only-of-type {\n",
       "        vertical-align: middle;\n",
       "    }\n",
       "\n",
       "    .dataframe tbody tr th {\n",
       "        vertical-align: top;\n",
       "    }\n",
       "\n",
       "    .dataframe thead th {\n",
       "        text-align: right;\n",
       "    }\n",
       "</style>\n",
       "<table border=\"1\" class=\"dataframe\">\n",
       "  <thead>\n",
       "    <tr style=\"text-align: right;\">\n",
       "      <th></th>\n",
       "      <th>mean_fit_time</th>\n",
       "      <th>std_fit_time</th>\n",
       "      <th>mean_score_time</th>\n",
       "      <th>std_score_time</th>\n",
       "      <th>param_learning_rate</th>\n",
       "      <th>param_subsample</th>\n",
       "      <th>params</th>\n",
       "      <th>split0_test_score</th>\n",
       "      <th>split1_test_score</th>\n",
       "      <th>split2_test_score</th>\n",
       "      <th>mean_test_score</th>\n",
       "      <th>std_test_score</th>\n",
       "      <th>rank_test_score</th>\n",
       "      <th>split0_train_score</th>\n",
       "      <th>split1_train_score</th>\n",
       "      <th>split2_train_score</th>\n",
       "      <th>mean_train_score</th>\n",
       "      <th>std_train_score</th>\n",
       "    </tr>\n",
       "  </thead>\n",
       "  <tbody>\n",
       "    <tr>\n",
       "      <th>0</th>\n",
       "      <td>4.974562</td>\n",
       "      <td>0.021567</td>\n",
       "      <td>0.131034</td>\n",
       "      <td>0.001618</td>\n",
       "      <td>0.2</td>\n",
       "      <td>0.3</td>\n",
       "      <td>{'learning_rate': 0.2, 'subsample': 0.3}</td>\n",
       "      <td>0.914064</td>\n",
       "      <td>0.971373</td>\n",
       "      <td>0.962963</td>\n",
       "      <td>0.949467</td>\n",
       "      <td>0.025268</td>\n",
       "      <td>3</td>\n",
       "      <td>0.990450</td>\n",
       "      <td>0.984303</td>\n",
       "      <td>0.988183</td>\n",
       "      <td>0.987645</td>\n",
       "      <td>0.002538</td>\n",
       "    </tr>\n",
       "    <tr>\n",
       "      <th>1</th>\n",
       "      <td>5.529229</td>\n",
       "      <td>0.007631</td>\n",
       "      <td>0.127776</td>\n",
       "      <td>0.000909</td>\n",
       "      <td>0.2</td>\n",
       "      <td>0.6</td>\n",
       "      <td>{'learning_rate': 0.2, 'subsample': 0.6}</td>\n",
       "      <td>0.926961</td>\n",
       "      <td>0.973582</td>\n",
       "      <td>0.961443</td>\n",
       "      <td>0.953995</td>\n",
       "      <td>0.019748</td>\n",
       "      <td>1</td>\n",
       "      <td>0.994016</td>\n",
       "      <td>0.986355</td>\n",
       "      <td>0.992693</td>\n",
       "      <td>0.991021</td>\n",
       "      <td>0.003343</td>\n",
       "    </tr>\n",
       "    <tr>\n",
       "      <th>2</th>\n",
       "      <td>4.925866</td>\n",
       "      <td>0.046013</td>\n",
       "      <td>0.127238</td>\n",
       "      <td>0.002910</td>\n",
       "      <td>0.2</td>\n",
       "      <td>0.9</td>\n",
       "      <td>{'learning_rate': 0.2, 'subsample': 0.9}</td>\n",
       "      <td>0.924236</td>\n",
       "      <td>0.975867</td>\n",
       "      <td>0.951012</td>\n",
       "      <td>0.950372</td>\n",
       "      <td>0.021083</td>\n",
       "      <td>2</td>\n",
       "      <td>0.992880</td>\n",
       "      <td>0.989807</td>\n",
       "      <td>0.993936</td>\n",
       "      <td>0.992208</td>\n",
       "      <td>0.001752</td>\n",
       "    </tr>\n",
       "    <tr>\n",
       "      <th>3</th>\n",
       "      <td>4.944206</td>\n",
       "      <td>0.022930</td>\n",
       "      <td>0.130203</td>\n",
       "      <td>0.002040</td>\n",
       "      <td>0.6</td>\n",
       "      <td>0.3</td>\n",
       "      <td>{'learning_rate': 0.6, 'subsample': 0.3}</td>\n",
       "      <td>0.885865</td>\n",
       "      <td>0.957231</td>\n",
       "      <td>0.940434</td>\n",
       "      <td>0.927843</td>\n",
       "      <td>0.030465</td>\n",
       "      <td>6</td>\n",
       "      <td>0.997522</td>\n",
       "      <td>0.991143</td>\n",
       "      <td>0.993425</td>\n",
       "      <td>0.994030</td>\n",
       "      <td>0.002639</td>\n",
       "    </tr>\n",
       "    <tr>\n",
       "      <th>4</th>\n",
       "      <td>5.535833</td>\n",
       "      <td>0.031588</td>\n",
       "      <td>0.128227</td>\n",
       "      <td>0.001269</td>\n",
       "      <td>0.6</td>\n",
       "      <td>0.6</td>\n",
       "      <td>{'learning_rate': 0.6, 'subsample': 0.6}</td>\n",
       "      <td>0.893749</td>\n",
       "      <td>0.967978</td>\n",
       "      <td>0.955700</td>\n",
       "      <td>0.939142</td>\n",
       "      <td>0.032487</td>\n",
       "      <td>5</td>\n",
       "      <td>0.999624</td>\n",
       "      <td>0.997823</td>\n",
       "      <td>0.998964</td>\n",
       "      <td>0.998804</td>\n",
       "      <td>0.000744</td>\n",
       "    </tr>\n",
       "  </tbody>\n",
       "</table>\n",
       "</div>"
      ],
      "text/plain": [
       "   mean_fit_time  std_fit_time  ...  mean_train_score  std_train_score\n",
       "0       4.974562      0.021567  ...          0.987645         0.002538\n",
       "1       5.529229      0.007631  ...          0.991021         0.003343\n",
       "2       4.925866      0.046013  ...          0.992208         0.001752\n",
       "3       4.944206      0.022930  ...          0.994030         0.002639\n",
       "4       5.535833      0.031588  ...          0.998804         0.000744\n",
       "\n",
       "[5 rows x 18 columns]"
      ]
     },
     "execution_count": 57,
     "metadata": {
      "tags": []
     },
     "output_type": "execute_result"
    }
   ],
   "source": [
    "# convert parameters to int for plotting on x-axis\n",
    "cv_results['param_learning_rate'] = cv_results['param_learning_rate'].astype('float')\n",
    "# cv_results['param_max_depth'] = cv_results['param_max_depth'].astype('float')\n",
    "cv_results.head()\n",
    "# cv_results['param_max_depth']"
   ]
  },
  {
   "cell_type": "code",
   "execution_count": 58,
   "metadata": {
    "colab": {
     "base_uri": "https://localhost:8080/",
     "height": 427
    },
    "colab_type": "code",
    "id": "JIUTCIJ8Xcse",
    "outputId": "c7474be8-108e-4e39-c45f-0c3ce8c7ef25"
   },
   "outputs": [
    {
     "data": {
      "image/png": "[encoded data removed]",
      "text/plain": [
       "<Figure size 1152x432 with 3 Axes>"
      ]
     },
     "metadata": {
      "tags": []
     },
     "output_type": "display_data"
    }
   ],
   "source": [
    "# # plotting\n",
    "plt.figure(figsize=(16,6))\n",
    "\n",
    "param_grid = {'learning_rate': [0.2, 0.6], \n",
    "             'subsample': [0.3, 0.6, 0.9]} \n",
    "\n",
    "\n",
    "for n, subsample in enumerate(param_grid['subsample']):\n",
    "    \n",
    "\n",
    "    # subplot 1/n\n",
    "    plt.subplot(1,len(param_grid['subsample']), n+1)\n",
    "    df = cv_results[cv_results['param_subsample']==subsample]\n",
    "\n",
    "    plt.plot(df[\"param_learning_rate\"], df[\"mean_test_score\"])\n",
    "    plt.plot(df[\"param_learning_rate\"], df[\"mean_train_score\"])\n",
    "    plt.xlabel('learning_rate')\n",
    "    plt.ylabel('AUC')\n",
    "    plt.title(\"subsample={0}\".format(subsample))\n",
    "    plt.ylim([0.60, 1])\n",
    "    plt.legend(['test score', 'train score'], loc='upper left')\n",
    "    plt.xscale('log')"
   ]
  },
  {
   "cell_type": "code",
   "execution_count": 59,
   "metadata": {
    "colab": {
     "base_uri": "https://localhost:8080/",
     "height": 168
    },
    "colab_type": "code",
    "id": "Qo0Did9cYHGE",
    "outputId": "0ee82f3c-3966-4a28-fbcf-7162429c8f96"
   },
   "outputs": [
    {
     "data": {
      "text/plain": [
       "XGBClassifier(base_score=0.5, booster='gbtree', colsample_bylevel=1,\n",
       "              colsample_bynode=1, colsample_bytree=1, gamma=0,\n",
       "              learning_rate=0.1, max_delta_step=0, max_depth=3,\n",
       "              min_child_weight=1, missing=None, n_estimators=100, n_jobs=1,\n",
       "              nthread=None, objective='binary:logistic',\n",
       "              params={'learning_rate': 0.2, 'max_depth': 2, 'n_estimators': 200,\n",
       "                      'objective': 'binary:logistic', 'subsample': 0.6},\n",
       "              random_state=0, reg_alpha=0, reg_lambda=1, scale_pos_weight=1,\n",
       "              seed=None, silent=None, subsample=1, verbosity=1)"
      ]
     },
     "execution_count": 59,
     "metadata": {
      "tags": []
     },
     "output_type": "execute_result"
    }
   ],
   "source": [
    "# chosen hyperparameters\n",
    "# 'objective':'binary:logistic' outputs probability rather than label, which we need for auc\n",
    "params = {'learning_rate': 0.2,\n",
    "          'max_depth': 2, \n",
    "          'n_estimators':200,\n",
    "          'subsample':0.6,\n",
    "         'objective':'binary:logistic'}\n",
    "\n",
    "# fit model on training data\n",
    "model = XGBClassifier(params = params)\n",
    "model.fit(X_train, y_train)"
   ]
  },
  {
   "cell_type": "code",
   "execution_count": 60,
   "metadata": {
    "colab": {
     "base_uri": "https://localhost:8080/",
     "height": 185
    },
    "colab_type": "code",
    "id": "WYCxknzXYLwK",
    "outputId": "b1ca4833-a6d2-476c-d5de-df0f7040131c"
   },
   "outputs": [
    {
     "data": {
      "text/plain": [
       "array([[9.9987620e-01, 1.2377757e-04],\n",
       "       [9.9980235e-01, 1.9764129e-04],\n",
       "       [9.9981219e-01, 1.8779545e-04],\n",
       "       [9.9935341e-01, 6.4659910e-04],\n",
       "       [9.9839455e-01, 1.6054598e-03],\n",
       "       [9.9982888e-01, 1.7113073e-04],\n",
       "       [9.9954700e-01, 4.5297624e-04],\n",
       "       [9.9944913e-01, 5.5086729e-04],\n",
       "       [9.9976951e-01, 2.3048650e-04],\n",
       "       [9.9696469e-01, 3.0353032e-03]], dtype=float32)"
      ]
     },
     "execution_count": 60,
     "metadata": {
      "tags": []
     },
     "output_type": "execute_result"
    }
   ],
   "source": [
    "# predict\n",
    "y_pred = model.predict_proba(X_test)\n",
    "y_pred[:10]"
   ]
  },
  {
   "cell_type": "code",
   "execution_count": 61,
   "metadata": {
    "colab": {
     "base_uri": "https://localhost:8080/",
     "height": 34
    },
    "colab_type": "code",
    "id": "gJIQeEI_YPDk",
    "outputId": "203c57a4-0baf-4f37-c985-b7dd524af854"
   },
   "outputs": [
    {
     "data": {
      "text/plain": [
       "0.9484868732425735"
      ]
     },
     "execution_count": 61,
     "metadata": {
      "tags": []
     },
     "output_type": "execute_result"
    }
   ],
   "source": [
    "# roc_auc\n",
    "auc = sklearn.metrics.roc_auc_score(y_test, y_pred[:, 1])\n",
    "auc"
   ]
  },
  {
   "cell_type": "code",
   "execution_count": 62,
   "metadata": {
    "colab": {
     "base_uri": "https://localhost:8080/",
     "height": 269
    },
    "colab_type": "code",
    "id": "alK97RmTYSIi",
    "outputId": "4f16867d-959a-4eaf-dd21-be17969bb4ea"
   },
   "outputs": [
    {
     "data": {
      "text/plain": [
       "{'app': 0.27878824,\n",
       " 'channel': 0.21394157,\n",
       " 'day_of_week': 0.02267693,\n",
       " 'day_of_year': 0.0,\n",
       " 'device': 0.17192616,\n",
       " 'hour': 0.03604142,\n",
       " 'ip': 0.04729222,\n",
       " 'ip_count': 0.121292084,\n",
       " 'ip_day_hour': 0.0,\n",
       " 'ip_hour_app': 0.0,\n",
       " 'ip_hour_channel': 0.0,\n",
       " 'ip_hour_device': 0.0,\n",
       " 'ip_hour_os': 0.008167093,\n",
       " 'month': 0.0,\n",
       " 'os': 0.09987429}"
      ]
     },
     "execution_count": 62,
     "metadata": {
      "tags": []
     },
     "output_type": "execute_result"
    }
   ],
   "source": [
    "# feature importance\n",
    "importance = dict(zip(X_train.columns, model.feature_importances_))\n",
    "importance"
   ]
  },
  {
   "cell_type": "code",
   "execution_count": 63,
   "metadata": {
    "colab": {
     "base_uri": "https://localhost:8080/",
     "height": 265
    },
    "colab_type": "code",
    "id": "ZnTKCpsBYUI3",
    "outputId": "79e6c48d-d087-4e54-c2c8-c2d8434d37a6"
   },
   "outputs": [
    {
     "data": {
      "image/png": "[encoded data removed]",
      "text/plain": [
       "<Figure size 432x288 with 1 Axes>"
      ]
     },
     "metadata": {
      "tags": []
     },
     "output_type": "display_data"
    }
   ],
   "source": [
    "# plot\n",
    "plt.bar(range(len(model.feature_importances_)), model.feature_importances_)\n",
    "plt.show()"
   ]
  },
  {
   "cell_type": "code",
   "execution_count": 0,
   "metadata": {
    "colab": {},
    "colab_type": "code",
    "id": "K1R6qnKKYWjB"
   },
   "outputs": [],
   "source": []
  }
 ],
 "metadata": {
  "colab": {
   "name": "XGBoost_Case_Study.ipynb",
   "provenance": []
  },
  "kernelspec": {
   "display_name": "Python 3",
   "language": "python",
   "name": "python3"
  },
  "language_info": {
   "codemirror_mode": {
    "name": "ipython",
    "version": 3
   },
   "file_extension": ".py",
   "mimetype": "text/x-python",
   "name": "python",
   "nbconvert_exporter": "python",
   "pygments_lexer": "ipython3",
   "version": "3.7.3"
  },
  "toc": {
   "base_numbering": 1,
   "nav_menu": {},
   "number_sections": true,
   "sideBar": true,
   "skip_h1_title": false,
   "title_cell": "Table of Contents",
   "title_sidebar": "Contents",
   "toc_cell": false,
   "toc_position": {},
   "toc_section_display": true,
   "toc_window_display": false
  }
 },
 "nbformat": 4,
 "nbformat_minor": 1
}
